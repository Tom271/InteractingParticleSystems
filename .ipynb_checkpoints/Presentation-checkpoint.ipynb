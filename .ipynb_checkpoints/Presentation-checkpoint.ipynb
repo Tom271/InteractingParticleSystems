{
 "cells": [
  {
   "cell_type": "markdown",
   "metadata": {
    "hideCode": false,
    "hidePrompt": false,
    "hide_input": false,
    "slideshow": {
     "slide_type": "slide"
    }
   },
   "source": [
    "\n",
    "<center>\n",
    "    <h1> Invariant Measures for an Interacting Particle System</h1>\n",
    "    <h3> Thomas Hodgson</h3>\n",
    "    <h5> Supervised by Michela Ottobre & Kevin Painter </h5>\n",
    "</center>"
   ]
  },
  {
   "cell_type": "markdown",
   "metadata": {
    "hideCode": false,
    "hidePrompt": false,
    "slideshow": {
     "slide_type": "notes"
    }
   },
   "source": [
    "- Problem comes from flocking models for animal movement. \n",
    "- Birds, Bacteria, etc. \n",
    "- Two categories: agent-based/particle or PDE\n",
    "- Vicsek model, align velocity\n",
    "- Vicsek-type\n",
    "- World is a complex place, 1-torus isn't\n",
    "- First, particle system"
   ]
  },
  {
   "cell_type": "markdown",
   "metadata": {
    "hideCode": false,
    "hidePrompt": false,
    "slideshow": {
     "slide_type": "skip"
    }
   },
   "source": [
    "$%Preamble Style commands\n",
    "\\require{color}\n",
    "\\renewcommand{\\phi}{\\varphi}\n",
    "$\n",
    "I've been studying interacting particle systems and models of flocking.  The aim is to be able to describe animal movement using these models. Bacteria, birds, whales etc. \n",
    "\n",
    "Why is biology hard? Are they particles? Is certain behaviour inevitable? That is, will certain behaviours such as flocking always occur? \n",
    "\n",
    "Models are either agent-based/particle models or continuous pdes. A classic example is the Vicsek model, where particles align based on the average velocity of those around them. I'll look at a Vicsek-type model here\n",
    "\n",
    "The first step, as in any system, is to simplify the problem. The domain of animals is a complicated place: the 1-Torus, not so much.  We begin with a particle model on this space."
   ]
  },
  {
   "cell_type": "code",
   "execution_count": 1,
   "metadata": {
    "hideCode": false,
    "hidePrompt": false,
    "hide_input": false,
    "remove_input": true,
    "scrolled": false,
    "slideshow": {
     "slide_type": "subslide"
    }
   },
   "outputs": [
    {
     "data": {
      "text/html": [
       "<center>\n",
       "<video width=\"100%\" height=\"100%\" controls autoplay loop>\n",
       "  <source src=\"starlings.mp4\" type=\"video/mp4\">\n",
       "</video>\n",
       "</center>\n"
      ],
      "text/plain": [
       "<IPython.core.display.HTML object>"
      ]
     },
     "metadata": {},
     "output_type": "display_data"
    }
   ],
   "source": [
    "%%HTML\n",
    "<center>\n",
    "<video width=\"100%\" height=\"100%\" controls autoplay loop>\n",
    "  <source src=\"starlings.mp4\" type=\"video/mp4\">\n",
    "</video>\n",
    "</center>"
   ]
  },
  {
   "cell_type": "markdown",
   "metadata": {
    "hideCode": false,
    "hidePrompt": false,
    "slideshow": {
     "slide_type": "notes"
    }
   },
   "source": [
    "- Problem comes from flocking models for animal movement. \n",
    "- Birds, Bacteria, etc. \n",
    "- Two categories: agent-based/particle or PDE\n",
    "- Vicsek model, align velocity\n",
    "- Vicsek-type\n",
    "- World is a complex place, 1-torus isn't\n",
    "- First, particle system"
   ]
  },
  {
   "cell_type": "markdown",
   "metadata": {
    "hideCode": false,
    "hidePrompt": false,
    "slideshow": {
     "slide_type": "slide"
    }
   },
   "source": [
    "#### Particle System \n",
    "$$ \n",
    "\\begin{cases} \n",
    "    \\mathrm{d} X^{i,N}_t &= V^{i,N}_t \\mathrm{d} t && (X^{i,N}_t,V^{i,N}_t) \\in \\mathbb{T}\\times \\mathbb{R}\\\\\n",
    "    \\mathrm{d} V^{i,N}_t &= \\left[ G\\left(M\\left(t,X^{i,N}_t\\right)\\right)-V^{i,N}_t\\right] \\mathrm{d} t +\\sqrt{2\\sigma}\\mathrm{d} W^i_t, &&\\sigma > 0 \n",
    "\\end{cases}    \n",
    "$$"
   ]
  },
  {
   "cell_type": "markdown",
   "metadata": {
    "hideCode": false,
    "hidePrompt": false,
    "slideshow": {
     "slide_type": "notes"
    }
   },
   "source": [
    "- Butta et al.\n",
    "- speed = dist/time\n",
    "- Ignore $G$ - OU process\n",
    "- Friction/Damping\n",
    "- Noise"
   ]
  },
  {
   "cell_type": "markdown",
   "metadata": {
    "hideCode": false,
    "hidePrompt": false,
    "slideshow": {
     "slide_type": "skip"
    }
   },
   "source": [
    "This model comes from Buttà, Flandoli, Ottobre and Zegarlinski (2019). The first thing to note is the first equation says speed is distance over time - not very interesting. Now looking at the second equation and ignoring for the moment the $G$ term, we see that this is OU process - particles are moving with Langevin dynamics. What are Langevin dynamics? See our TP2 presentation! Basically these particles experience a friction/ damping effect, expressed as $-V_t\\mathrm{d} t$ and some random noise governed by $\\sigma$.\n"
   ]
  },
  {
   "cell_type": "markdown",
   "metadata": {
    "hideCode": false,
    "hidePrompt": false,
    "slideshow": {
     "slide_type": "fragment"
    }
   },
   "source": [
    "$$ \\begin{align*}\n",
    "    &M(t,x) = \\frac{ \\mathbb{E}[v'_t\\phi \\ (x - x'_t)]}{\\mathbb{E}[\\phi \\ (x-x'_t)]},\n",
    "    &&G(u) = \\frac{u+\\text{sgn}(u)}{2}\\\\\n",
    "\\end{align*}$$\n",
    "<br>\n",
    "<br>\n",
    "<br>\n",
    "<br>\n",
    "<small> Buttà, Flandoli, Ottobre and Zegarlinski (2019) </small>"
   ]
  },
  {
   "cell_type": "markdown",
   "metadata": {
    "hideCode": false,
    "hidePrompt": false,
    "slideshow": {
     "slide_type": "notes"
    }
   },
   "source": [
    "- $G \\not\\equiv 0$\n",
    "- Particles on torus interacting through $\\phi$\n",
    "- Interested in dynamics - does flocking occur?\n",
    "- Flock in space (clusters)\n",
    "- Flock in veloctiy (ordered motion)\n",
    "- Invariant measures\n",
    "- Mean field limit ($N \\to \\infty$)"
   ]
  },
  {
   "cell_type": "markdown",
   "metadata": {
    "hideCode": false,
    "hidePrompt": false,
    "slideshow": {
     "slide_type": "slide"
    }
   },
   "source": [
    "#### Kinetic Model\n",
    "<br>\n",
    "<br>\n",
    "<br>\n",
    "$$ \\partial_t f_t(x,v) =-v \\partial_x f_t(x,v) + \\partial_v vf_t(x,v) - \\partial_v G(M(t,x))f_t(x,v) + \\sigma\\partial_{vv} f_t(x,v)$$\n",
    "<br>\n",
    " \n",
    "$$ \\begin{align*}\n",
    "    &M(t,x) = \\frac{ \\int_{\\mathbb{T}}\\int_{\\mathbb{R}} w f_t(y,w)\\phi\\ (x-y) \\mathrm{d} w \\mathrm{d} y}{\\int_{\\mathbb{T}}\\int_{\\mathbb{R}} f_t(y,w)\\phi\\ (x-y) \\mathrm{d} w \\mathrm{d} y},\n",
    "    &&G(u) = \\frac{u+\\text{sgn}(u)}{2}\n",
    "\\end{align*}$$\n",
    "<br>\n",
    "<br>\n",
    "<br>\n",
    "<br>\n",
    "<small> Buttà, Flandoli, Ottobre and Zegarlinski (2019) </small>"
   ]
  },
  {
   "cell_type": "markdown",
   "metadata": {
    "hideCode": false,
    "hidePrompt": false,
    "slideshow": {
     "slide_type": "slide"
    }
   },
   "source": [
    "#### Kinetic Model\n",
    "<br>\n",
    "<br>\n",
    "<br>\n",
    "$$ \\partial_t f_t(x, v) ={\\color{mediumslateblue}{-v \\partial_x f_t(x,v)}} + {\\color{crimson}{\\partial_v vf_t(x,v)}} - {\\color{green}{\\partial_v G(M(t,x))f_t(x,v)}} +  \\sigma\\partial_{vv} f_t(x,v)$$\n",
    "<br>\n",
    " \n",
    "$$ \\begin{align*}\n",
    "    &M(t,x) = \\frac{ \\int_{\\mathbb{T}}\\int_{\\mathbb{R}} w f_t(y,w)\\phi\\ (x-y)) \\mathrm{d} w \\mathrm{d} y}{\\int_{\\mathbb{T}}\\int_{\\mathbb{R}} f_t(y,w)\\phi\\ (x-y)) \\mathrm{d} w \\mathrm{d} y},\n",
    "    &&G(u) = \\frac{u+\\text{sgn}(u)}{2}\n",
    "\\end{align*}$$\n"
   ]
  },
  {
   "cell_type": "markdown",
   "metadata": {
    "hideCode": false,
    "hidePrompt": false,
    "slideshow": {
     "slide_type": "notes"
    }
   },
   "source": [
    "- $G \\equiv 0$ linear FPE for OU process.\n",
    "- Two models: particle, mean field.\n",
    "- Characterise inv measure?\n",
    "    - Biologically - are these animals flocking? \n",
    "    - On $\\mathbb{T}$, are they all moving clockwise? CCW? Disordered?\n",
    "\n",
    "- Look at space-hom first"
   ]
  },
  {
   "cell_type": "markdown",
   "metadata": {
    "hideCode": false,
    "hidePrompt": false,
    "slideshow": {
     "slide_type": "skip"
    }
   },
   "source": [
    "Blue - Transport\n",
    "\n",
    "Red - Damping/Friction\n",
    "\n",
    "Green - Interaction term\n",
    "\n",
    "Black - diffusion\n",
    "\n",
    "\n",
    "\n",
    "If $G \\equiv 0$, this is a linear Fokker-Planck equation for the Ornstein-Uhlenbeck process - this is analagous to the Langevin dynamics we saw in the particle system. We now have two models. One is the limit of the other. We want to characterise the invariant measures of the system. What does that mean?\n",
    "- Biologically - are these animals flocking? \n",
    "- On $\\mathbb{T}$, are they all moving clockwise? CCW? Disordered?\n",
    "\n",
    "We aren't actually able to do this for this system, as Dan touched on earlier. However, if we remove space from this equation, taking $\\phi \\equiv 1$, we can characterise the system.\n"
   ]
  },
  {
   "cell_type": "markdown",
   "metadata": {
    "hideCode": false,
    "hidePrompt": false,
    "slideshow": {
     "slide_type": "slide"
    }
   },
   "source": [
    "#### Space-Homogeneous Case\n",
    "$$ \\partial_t f_t(v) =- G(M_1(t)) \\partial_v f_t(v)  + \\partial_v( vf_t(v)) + \\sigma\\partial_{vv} f_t(v)$$\n",
    "<br>\n",
    "\n",
    "\\begin{align*} &M(t,x) \\rightarrow M_1(t) = \\mathbb{E}[V_t],&& G(u) = \\frac{u+\\text{sgn}(u)}{2}\\end{align*}\n"
   ]
  },
  {
   "cell_type": "markdown",
   "metadata": {
    "hideCode": false,
    "hidePrompt": false,
    "slideshow": {
     "slide_type": "notes"
    }
   },
   "source": [
    " - Transport gone\n",
    " - Interaction is mean velocity\n",
    " - Understand dynamics, how does mean V behave?\n",
    " - Simple -> find eqn for $M_1$\n",
    " - Multiply PDE by v and int"
   ]
  },
  {
   "cell_type": "markdown",
   "metadata": {
    "hideCode": false,
    "hidePrompt": false,
    "slideshow": {
     "slide_type": "skip"
    }
   },
   "source": [
    "The transport term has disappeared, left with just interaction, damping and noise. The interaction function is now just the average velocity at time t. This is now looking much more tractable. This is an advection-diffusion equation in one dimension. \n",
    "\n",
    "We can now in fact close an equation on the average velocity, allowing us to find the mean velocity at every time step! Multiplying the PDE by $v$ and integrating across $\\mathbb{R}$, a lot of integration by parts gives"
   ]
  },
  {
   "cell_type": "markdown",
   "metadata": {
    "hideCode": false,
    "hidePrompt": false,
    "slideshow": {
     "slide_type": "fragment"
    }
   },
   "source": [
    "\n",
    "$$ \\implies \\dot{M}_1(t) = G(M_1(t)) - M_1(t) $$\n"
   ]
  },
  {
   "cell_type": "markdown",
   "metadata": {
    "hideCode": false,
    "hidePrompt": false,
    "slideshow": {
     "slide_type": "skip"
    }
   },
   "source": [
    "Steady state, set time derivative to zero, gives $G(M_1(t)) = M_1(t)$. This occurs when $M_1(t)= -1,0,1$. So in the long term, we expect all the particles to move in the same direction, either clockwise or counter clockwise round the circle. $ M_1(t) = 0 $ corresponds to complete disordered motion. How do we know which of these it will converge to? Because of form of $G$, depends on $\\text{sgn}(M_1(0))$."
   ]
  },
  {
   "cell_type": "markdown",
   "metadata": {
    "hideCode": false,
    "hidePrompt": false,
    "slideshow": {
     "slide_type": "notes"
    }
   },
   "source": [
    "- Solve, $M_1 = -1, 0 , 1$\n",
    "- CW, CCW, disordered\n",
    "- Which? depends on initial data for PDE\n",
    "- Can do a similar thing for other moments -> Gaussian\n",
    "- Mean M_1, Var $\\sigma$\n",
    "- My work has been numerically solving\n"
   ]
  },
  {
   "cell_type": "markdown",
   "metadata": {
    "hideCode": false,
    "hidePrompt": false,
    "slideshow": {
     "slide_type": "subslide"
    }
   },
   "source": [
    "#### Simulation"
   ]
  },
  {
   "cell_type": "code",
   "execution_count": 2,
   "metadata": {
    "hideCode": false,
    "hidePrompt": false,
    "remove_input": true,
    "scrolled": false,
    "slideshow": {
     "slide_type": "fragment"
    }
   },
   "outputs": [
    {
     "data": {
      "text/html": [
       "<center>\n",
       "<video width=\"100%\" height=\"auto\" controls loop>\n",
       "  <source src=\"spacehom.mp4\" type=\"video/mp4\">\n",
       "</video>\n",
       "</center>\n"
      ],
      "text/plain": [
       "<IPython.core.display.HTML object>"
      ]
     },
     "metadata": {},
     "output_type": "display_data"
    }
   ],
   "source": [
    "%%HTML\n",
    "<center>\n",
    "<video width=\"100%\" height=\"auto\" controls loop>\n",
    "  <source src=\"spacehom.mp4\" type=\"video/mp4\">\n",
    "</video>\n",
    "</center>"
   ]
  },
  {
   "cell_type": "markdown",
   "metadata": {
    "hideCode": false,
    "hidePrompt": false,
    "slideshow": {
     "slide_type": "notes"
    }
   },
   "source": [
    "- 1000 particles, -1,-2 indicator\n",
    "- Describe\n",
    "- See quick diffusion then advection.\n",
    "- Good agreement between PDE and histogram\n",
    "- Include space in particle system"
   ]
  },
  {
   "cell_type": "markdown",
   "metadata": {
    "hideCode": false,
    "hidePrompt": false,
    "slideshow": {
     "slide_type": "slide"
    }
   },
   "source": [
    "#### Particle System\n",
    "<br>\n",
    "\n",
    "$$ \n",
    "\\begin{cases} \n",
    "    \\mathrm{d} X_t &= V_t \\mathrm{d} t\\\\\n",
    "    \\mathrm{d} V_t &= \\left[ G(M(t,X_t))-V_t\\right] \\mathrm{d} t +\\sqrt{2\\sigma}\\mathrm{d} W_t, &&\\sigma > 0 \n",
    "\\end{cases}    \n",
    "$$\n",
    "<br>\n",
    "$$ \\begin{align*}\n",
    "    &M(t,x) = \\frac{ \\mathbb{E}[v'_t\\phi \\ (x - x'_t)]}{\\mathbb{E}[\\phi \\ (x-x'_t)]},\n",
    "    &&G(u) = \\frac{u+\\text{sgn}(u)}{2}\n",
    "\\end{align*}$$\n",
    "\n"
   ]
  },
  {
   "cell_type": "code",
   "execution_count": 1,
   "metadata": {
    "hideCode": false,
    "hidePrompt": false,
    "hide_input": false,
    "remove_input": true,
    "scrolled": true,
    "slideshow": {
     "slide_type": "slide"
    }
   },
   "outputs": [
    {
     "data": {
      "text/html": [
       "<center>\n",
       "<video width=\"100%\" height=\"auto\" controls loop>\n",
       "  <source src=\"1particles.mp4\" type=\"video/mp4\">\n",
       "</video>\n",
       "</center>\n"
      ],
      "text/plain": [
       "<IPython.core.display.HTML object>"
      ]
     },
     "metadata": {},
     "output_type": "display_data"
    }
   ],
   "source": [
    "%%HTML\n",
    "<center>\n",
    "<video width=\"100%\" height=\"auto\" controls loop>\n",
    "  <source src=\"1particles.mp4\" type=\"video/mp4\">\n",
    "</video>\n",
    "</center>"
   ]
  },
  {
   "cell_type": "markdown",
   "metadata": {
    "hideCode": false,
    "hidePrompt": false,
    "slideshow": {
     "slide_type": "notes"
    }
   },
   "source": [
    "- (orange is CCW neg vel, green is pos vel)\n",
    "- Start 100 particles at $\\pi/2$, vel rand dist on [-1,0]\n",
    "- Particles spread out in space, vel -> -1"
   ]
  },
  {
   "cell_type": "code",
   "execution_count": 4,
   "metadata": {
    "hideCode": false,
    "hidePrompt": false,
    "remove_input": true,
    "scrolled": false,
    "slideshow": {
     "slide_type": "slide"
    }
   },
   "outputs": [
    {
     "data": {
      "text/html": [
       "<center>\n",
       "<video width=\"100%\" height=\"auto\" controls loop>\n",
       "  <source src=\"2particles.mp4\" type=\"video/mp4\">\n",
       "</video>\n",
       "</center\n"
      ],
      "text/plain": [
       "<IPython.core.display.HTML object>"
      ]
     },
     "metadata": {},
     "output_type": "display_data"
    }
   ],
   "source": [
    "%%HTML\n",
    "<center>\n",
    "<video width=\"100%\" height=\"auto\" controls loop>\n",
    "  <source src=\"2particles.mp4\" type=\"video/mp4\">\n",
    "</video>\n",
    "</center"
   ]
  },
  {
   "cell_type": "markdown",
   "metadata": {
    "hideCode": false,
    "hidePrompt": false,
    "slideshow": {
     "slide_type": "notes"
    }
   },
   "source": [
    "Same as before\n",
    "- (orange is CCW neg vel, green is pos vel)\n",
    "- Start 100 particles at $\\pi/2$, vel rand dist on [0,1]\n",
    "- Particles spread out in space, vel -> 1\n",
    "- 2 stat dist? No, only metastable,can jump across - PDE can't\n",
    "- Disagreement in models"
   ]
  },
  {
   "cell_type": "code",
   "execution_count": 1,
   "metadata": {
    "hideCode": false,
    "hidePrompt": false,
    "remove_input": true,
    "slideshow": {
     "slide_type": "slide"
    }
   },
   "outputs": [
    {
     "data": {
      "text/html": [
       "<center>\n",
       "<video width=\"100%\" height=\"auto\" controls loop>\n",
       "  <source src=\"switch.mp4\" type=\"video/mp4\">\n",
       "</video>\n",
       "</center>\n"
      ],
      "text/plain": [
       "<IPython.core.display.HTML object>"
      ]
     },
     "metadata": {},
     "output_type": "display_data"
    }
   ],
   "source": [
    "%%HTML\n",
    "<center>\n",
    "<video width=\"100%\" height=\"auto\" controls loop>\n",
    "  <source src=\"switch.mp4\" type=\"video/mp4\">\n",
    "</video>\n",
    "</center>\n"
   ]
  },
  {
   "cell_type": "markdown",
   "metadata": {
    "hideCode": false,
    "hidePrompt": false,
    "slideshow": {
     "slide_type": "slide"
    }
   },
   "source": [
    "#### Future\n",
    "- Incorporate space-heterogeneous interaction functions\n",
    "- Find something that doesn't homogenise in space\n",
    "<br>\n",
    "- More complex geometry"
   ]
  },
  {
   "cell_type": "markdown",
   "metadata": {
    "hideCode": false,
    "hidePrompt": false,
    "slideshow": {
     "slide_type": "notes"
    }
   },
   "source": [
    "- Compact support, see if get clusters\n",
    "- Observe a rare event\n",
    "- Lie! Nothing to do with bio, things don't move on torus\n"
   ]
  },
  {
   "cell_type": "markdown",
   "metadata": {
    "hideCode": false,
    "hidePrompt": false,
    "slideshow": {
     "slide_type": "slide"
    }
   },
   "source": [
    "#### From Disorder to Order in Marching Locusts, Buhl et al. (2006)"
   ]
  },
  {
   "cell_type": "markdown",
   "metadata": {
    "hideCode": false,
    "hidePrompt": false,
    "slideshow": {
     "slide_type": "notes"
    }
   },
   "source": [
    "- Buhl et al. 2006\n",
    "- 'randomly dist' locusts\n",
    "- observed movement - saw switching between -1,1"
   ]
  },
  {
   "cell_type": "code",
   "execution_count": 6,
   "metadata": {
    "hideCode": false,
    "hidePrompt": false,
    "remove_input": true,
    "slideshow": {
     "slide_type": "fragment"
    }
   },
   "outputs": [
    {
     "data": {
      "text/html": [
       "<center>\n",
       "<video class=\"wp-video-shortcode\" id=\"video-790-1\" width=\"auto\" height=\"auto\" preload=\"metadata\" controls=\"controls\" loop=\"\" ><source type=\"video/mp4\" src=\"http://collectivebehaviour.com/wp-content/uploads/2016/01/LocustTracking-iPhone.m4v?_=1\">\n",
       "\n",
       "</video>\n",
       "</center>\n"
      ],
      "text/plain": [
       "<IPython.core.display.HTML object>"
      ]
     },
     "metadata": {},
     "output_type": "display_data"
    }
   ],
   "source": [
    "%%HTML\n",
    "<center>\n",
    "<video class=\"wp-video-shortcode\" id=\"video-790-1\" width=\"auto\" height=\"auto\" preload=\"metadata\" controls=\"controls\" loop=\"\" ><source type=\"video/mp4\" src=\"http://collectivebehaviour.com/wp-content/uploads/2016/01/LocustTracking-iPhone.m4v?_=1\">\n",
    "\n",
    "</video>\n",
    "</center>"
   ]
  },
  {
   "cell_type": "markdown",
   "metadata": {
    "hideCode": false,
    "hidePrompt": false,
    "slideshow": {
     "slide_type": "notes"
    }
   },
   "source": [
    " - Goal: Link to bio\n",
    " - Complex geometry"
   ]
  },
  {
   "cell_type": "markdown",
   "metadata": {
    "hideCode": false,
    "hidePrompt": false,
    "slideshow": {
     "slide_type": "fragment"
    }
   },
   "source": [
    " <small> I.D. Couzin, http://collectivebehaviour.com/locust-swarms/ , Starlings [Jo Kroese](https://github.com/joekroese)</small>"
   ]
  }
 ],
 "metadata": {
  "celltoolbar": "Hide code",
  "hide_code_all_hidden": false,
  "kernelspec": {
   "display_name": "Python 3",
   "language": "python",
   "name": "python3"
  },
  "language_info": {
   "codemirror_mode": {
    "name": "ipython",
    "version": 3
   },
   "file_extension": ".py",
   "mimetype": "text/x-python",
   "name": "python",
   "nbconvert_exporter": "python",
   "pygments_lexer": "ipython3",
   "version": "3.7.2"
  },
  "rise": {
   "footer": "&nbsp &nbsp Maxwell Institute"
  },
  "toc": {
   "base_numbering": 1,
   "nav_menu": {},
   "number_sections": true,
   "sideBar": true,
   "skip_h1_title": true,
   "title_cell": "Table of Contents",
   "title_sidebar": "Contents",
   "toc_cell": false,
   "toc_position": {},
   "toc_section_display": true,
   "toc_window_display": false
  }
 },
 "nbformat": 4,
 "nbformat_minor": 2
}
