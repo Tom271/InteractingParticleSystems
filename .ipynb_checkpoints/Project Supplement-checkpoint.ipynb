{
 "cells": [
  {
   "cell_type": "markdown",
   "metadata": {},
   "source": [
    "<center>\n",
    "    <h1> Extended Project Supplement</h1>\n",
    "</center>\n",
    "\n",
    "Interactive plots + animations corresponding to figures\n",
    "- Code for all figures??\n",
    "- Numerical Methods \n",
    "- Application to model\n",
    "- Space homogeneity\n",
    "- Space inhomogeneity\n",
    "- Python .py file too?\n"
   ]
  },
  {
   "cell_type": "code",
   "execution_count": 3,
   "metadata": {},
   "outputs": [],
   "source": [
    "import numpy as np\n",
    "from numpy.random import normal, uniform\n",
    "import scipy.stats as stats\n",
    "\n",
    "import matplotlib.pyplot as plt\n",
    "import matplotlib.animation as animation\n",
    "import seaborn as sns\n",
    "sns.set()\n",
    "sns.color_palette('colorblind')\n",
    "cmap = plt.get_cmap('plasma')\n",
    "\n",
    "from FinalCode import plotting_tools as animplt\n",
    "from FinalCode import herding as herd\n",
    "from FinalCode import ToyProblems as TP\n",
    "from FinalCode import SpaceHom as hom\n",
    "\n",
    "savepath = './Report/Figures/'\n",
    "save = False"
   ]
  },
  {
   "cell_type": "markdown",
   "metadata": {},
   "source": [
    "## Toy Problems"
   ]
  },
  {
   "cell_type": "markdown",
   "metadata": {},
   "source": [
    "- Heat eqn, adv eqn\n",
    "- Mesh refinement error\n",
    "- OU particles"
   ]
  },
  {
   "cell_type": "markdown",
   "metadata": {},
   "source": [
    "### Heat Equation"
   ]
  },
  {
   "cell_type": "markdown",
   "metadata": {},
   "source": [
    "Solving the heat equation using finite differences. To see the sensitivity of FTCS on mesh size, try violating the stability condition $\\frac{\\sigma \\Delta t}{\\Delta x}^2 < \\frac{1}{2}$. For example, set `diffusion = 1, timestep = 0.01, spacestep = 0.1`"
   ]
  },
  {
   "cell_type": "code",
   "execution_count": null,
   "metadata": {
    "scrolled": false
   },
   "outputs": [],
   "source": [
    "%matplotlib inline\n",
    "diffusion = 1\n",
    "timestep = 0.005\n",
    "spacestep = 0.1\n",
    "T_final = 5\n",
    "domain_size = 5\n",
    "def indicator(x): return np.array([int(i>=-1 and i<=0) for i in x])\n",
    "def gaussian(x): return stats.norm.pdf(x, loc=0, scale=1)\n",
    "\n",
    "initial_data = gaussian\n",
    "diff_solvers = [TP.FTCS, TP.BTCS, TP.CN]\n",
    "\n",
    "###############################################################################\n",
    "fig, ax = plt.subplots(len(diff_solvers), 1, figsize=(10,10))\n",
    "#fig.suptitle('Heat Equation in 1D', fontsize=16)\n",
    "if len(diff_solvers)>1:\n",
    "    for idx, solver in enumerate(diff_solvers):\n",
    "        x, sol = TP.solve_heat_eqn(solver=solver, dt=timestep, dx=spacestep,\n",
    "                                T_end=T_final, L=domain_size, initial_dist=initial_data)\n",
    "        ax[idx].set_prop_cycle(color=[cmap(k) for k in np.linspace(1, 0, 10)])\n",
    "        ax[idx].set_title(solver.__name__, fontsize=14)\n",
    "        ax[idx].set_xlabel(r'$x$', fontsize=18)\n",
    "        ax[idx].set_ylabel(r'$u$', fontsize=18)\n",
    "        for i in np.logspace(0, np.log10(len(sol[:,0])-1), num=10):\n",
    "            ax[idx].plot(x, sol[int(i),])\n",
    "\n",
    "else:\n",
    "    solver = diff_solvers[0]\n",
    "    x, sol = TP.solve_heat_eqn(solver=solver, D=diffusion, dt=timestep,\n",
    "                               dx=spacestep, T_end=T_final, L=domain_size)\n",
    "    ax.set_prop_cycle(color=[cmap(k) for k in np.linspace(1, 0, 10)])\n",
    "    ax.set_title(solver.__name__, fontsize=14)\n",
    "    ax.set_xlabel(r'$x$', fontsize=16)\n",
    "    ax.set_ylabel(r'$u$', fontsize=16)\n",
    "    for i in np.logspace(0, np.log10(len(sol[:,0])-1), num=10):\n",
    "        ax.plot(x, sol[int(i),])\n",
    "plt.tight_layout(rect=[0, 0.03, 1, 0.95])\n",
    "\n",
    "if save:\n",
    "    plt.savefig(savepath+'{}.eps'.format(timestep), format='eps', dpi=1000)"
   ]
  },
  {
   "cell_type": "markdown",
   "metadata": {},
   "source": [
    "### Advection Equation"
   ]
  },
  {
   "cell_type": "markdown",
   "metadata": {},
   "source": [
    "Solving the advection equation using finite differences and finite volumes. Both methods are sensitive to mesh spacing. For example, set `wavespeed = 1, timestep = 0.21, spacestep = 0.1`. Also note the artificial dispersion introduced, regardless of spacing."
   ]
  },
  {
   "cell_type": "code",
   "execution_count": null,
   "metadata": {},
   "outputs": [],
   "source": [
    "wavespeed = 0.5\n",
    "T_final = 3\n",
    "timestep = 0.01\n",
    "spacestep = 0.1\n",
    "domain_size = 5 \n",
    "def indicator(x): return np.array([int(i>=-1 and i<=0) for i in x])\n",
    "def gaussian(x): return stats.norm.pdf(x, loc=0, scale=1)\n",
    "initial_data = indicator\n",
    "adv_solvers = [TP.upwind]#, TP.FV_upwind]\n",
    "\n",
    "\n",
    "###############################################################################\n",
    "fig, ax = plt.subplots(len(adv_solvers), 1, figsize=(10,10))\n",
    "#fig.suptitle('Advection Equation in 1D', fontsize=16)\n",
    "cmap = plt.get_cmap('plasma')\n",
    "if len(adv_solvers)>1:\n",
    "    for idx, solver in enumerate(adv_solvers):\n",
    "        adv_x, adv_sol = TP.solve_adv_eqn(solver=solver, a=wavespeed,\n",
    "                                          dt=timestep, dx=spacestep,\n",
    "                                          T_end=T_final, L=domain_size,\n",
    "                                          initial_dist=initial_data)\n",
    "        ax[idx].set_title(solver.__name__, fontsize=14)\n",
    "        ax[idx].set_xlabel(r'$x$', fontsize=14)\n",
    "        ax[idx].set_ylabel(r'$u$', fontsize=14)\n",
    "        ax[idx].set_prop_cycle(color=[cmap(k) for k in np.linspace(1, 0, 10)])\n",
    "        for i in np.logspace(0, np.log10(np.size(adv_sol, axis=0)-1), num=10):\n",
    "            ax[idx].plot(adv_x, adv_sol[int(i),])\n",
    "else:\n",
    "    solver = adv_solvers[0]\n",
    "    adv_x, adv_sol = TP.solve_adv_eqn(solver=solver, a=wavespeed,\n",
    "                                      dt=timestep, dx=spacestep,\n",
    "                                      T_end=T_final, L=domain_size,\n",
    "                                      initial_dist=initial_data)\n",
    "    ax.set_title(solver.__name__, fontsize=14)\n",
    "    ax.set_xlabel(r'$x$', fontsize=14)\n",
    "    ax.set_ylabel(r'$u$', fontsize=14)\n",
    "    ax.set_prop_cycle(color=[cmap(k) for k in np.linspace(1, 0, 10)])\n",
    "    for i in np.logspace(0, np.log10(np.size(adv_sol, axis=0)-1), num=10):\n",
    "        ax.plot(adv_x, adv_sol[int(i),])\n",
    "plt.tight_layout(rect=[0, 0.03, 1, 0.95])\n",
    "plt.show()\n",
    "\n",
    "if save:\n",
    "    plt.savefig(savepath+'adv'+initial_data.__name__+'.eps', format='eps', dpi=1000)"
   ]
  },
  {
   "cell_type": "markdown",
   "metadata": {},
   "source": [
    "### Particle System with Langevin Dynamics\n"
   ]
  },
  {
   "cell_type": "markdown",
   "metadata": {},
   "source": [
    "Outputs an animation of histogram of particles at each timestep. Along with the mean velocity and variance of all particles at each timestep."
   ]
  },
  {
   "cell_type": "code",
   "execution_count": null,
   "metadata": {},
   "outputs": [],
   "source": [
    "%matplotlib qt\n",
    "particle_count = 1000\n",
    "diffusion = 1\n",
    "initial_data = uniform(low=2, high=4, size=particle_count)\n",
    "timestep = 0.01\n",
    "T_final = 5\n",
    "\n",
    "#If animation is too slow, increase framstep.\n",
    "framestep = 1\n",
    "###############################################################################\n",
    "t, v, [m1, var] = TP.run_OU_process(particles=particle_count,\n",
    "                   D=diffusion,\n",
    "                   initial_dist=initial_data,\n",
    "                   dt=timestep,\n",
    "                   T_end=T_final)\n",
    "\n",
    "fig, ax = plt.subplots(1, 2, figsize=(16,8))\n",
    "vel_ax = ax[0]\n",
    "mom_ax = ax[1]\n",
    "n_v, bins_v, patches_v = vel_ax.hist(v[0,], bins=np.arange(v.min(), v.max(), 0.15),\n",
    "                                         density=True, label='Position')\n",
    "\n",
    "mu = 0\n",
    "sigma = np.sqrt(diffusion)\n",
    "_v = np.arange(mu - 5*sigma, mu + 5*sigma, 0.01)\n",
    "stat_dist = stats.norm.pdf(_v, mu, sigma)\n",
    "\n",
    "vel_ax.plot(_v, stat_dist, label=r'Stationary D$^{\\mathrm{n}}$')\n",
    "\n",
    "mean = np.zeros(len(v))\n",
    "var = np.zeros(len(v))\n",
    "for i in range(len(v)):\n",
    "    mean[i] = np.mean(v[i])\n",
    "    var[i] = np.var(v[i])\n",
    "\n",
    "line_mean, = mom_ax.plot(t, mean, label=\"Mean\")\n",
    "line_var, = mom_ax.plot(t, var, label=\"Variance\")\n",
    "mom_ax.legend(loc='upper right')\n",
    "mom_ax.set_xlabel('Time', fontsize=20)\n",
    "mom_ax.plot([0, T_final], [0, 0], 'b--')\n",
    "mom_ax.plot([0, T_final], [diffusion, diffusion],'r--')\n",
    "\n",
    "vel_ax.set_ylim(0, max(stat_dist.max(),n_v.max())+0.1)\n",
    "vel_ax.set_xlim(v.min(), v.max())\n",
    "vel_ax.set_xlabel('Position', fontsize=20)\n",
    "vel_ax.set_ylabel('Density', fontsize=20)\n",
    "def animate(i,framestep): \n",
    "        line_mean.set_data(t[:(i*framestep)],mean[:(i*framestep)])\n",
    "        line_var.set_data(t[:(i*framestep)], var[:(i*framestep)])\n",
    "        n_v, _ = np.histogram(v[i*framestep,],\n",
    "                              bins=np.arange(v.min(), v.max(), 0.15),\n",
    "                              density=True)\n",
    "        for rect_v, height_v in zip(patches_v, n_v):\n",
    "              rect_v.set_height(height_v)\n",
    "        fig.suptitle('t = {:.2f}'.format(t[i*framestep]), fontsize=20)\n",
    "        fig.show()\n",
    "\n",
    "ani = animation.FuncAnimation(fig, lambda i: animate(i, framestep), interval=60,\n",
    "                              frames=len(t)//framestep, repeat=False)\n",
    "plt.show()"
   ]
  },
  {
   "cell_type": "code",
   "execution_count": null,
   "metadata": {},
   "outputs": [],
   "source": [
    "%matplotlib inline\n",
    "T_final = 100\n",
    "t, v, [m1, var] = TP.run_OU_process(particles=particle_count,\n",
    "                   D=diffusion,\n",
    "                   initial_dist=initial_data,\n",
    "                   dt=timestep,\n",
    "                   T_end=T_final)\n",
    "\n",
    "fig, ax = plt.subplots(1,2, figsize=(16,8))\n",
    "n_v, bins_v, patches_v = ax[0].hist(v[-750:].flatten(), bins=np.arange(v.min(), v.max(), 0.15),\n",
    "                                         density=True, label='Position')\n",
    "ax[0].plot(_v, stat_dist, 'r--')\n",
    "ax[0].set_xlabel('Position', fontsize=18)\n",
    "ax[0].set_ylabel('Density', fontsize=18)\n",
    "for _ in range(3):\n",
    "    ax[1].plot(t[:500], v[:500,_], label='Particle {}'.format(_+1))\n",
    "ax[1].set_xlabel('Time', fontsize=18)\n",
    "ax[1].set_ylabel('Position', fontsize=18)\n",
    "fig.show()\n",
    "if save:\n",
    "    fig.savefig(savepath+'OUparticletraj.eps', format='eps', dpi=1000)\n"
   ]
  },
  {
   "cell_type": "markdown",
   "metadata": {},
   "source": [
    "# Particle Model Simulation\n",
    "\n",
    "OU process is same as space homogeneous with no interaction. Combine \n",
    "Interaction, histograms \n",
    "\n",
    "switch! In space?\n"
   ]
  },
  {
   "cell_type": "code",
   "execution_count": 7,
   "metadata": {},
   "outputs": [],
   "source": [
    "%matplotlib qt\n",
    "particle_count = 100\n",
    "diffusion = 1\n",
    "initial_data = uniform(size=100)\n",
    "timestep = 0.01\n",
    "T_final = 10\n",
    "herding_function = herd.smooth_G\n",
    "\n",
    "t, v, [M1, var] = hom.run_particle_model(particles=particle_count,\n",
    "                   D=diffusion,\n",
    "                   initial_dist=initial_data,\n",
    "                   dt=timestep,\n",
    "                   T_end=T_final,\n",
    "                   G=herding_function)\n",
    "\n",
    "n, bins, patches = plt.hist(v[-500:].flatten(), bins=np.arange(v.min(), v.max(), 0.15),\n",
    "                           density=True, label='Velocity')\n",
    "plt.show()\n",
    "\n",
    "fig, ax = plt.subplots(figsize=(8,8))\n",
    "\n",
    "n_v, bins_v, patches_v = ax.hist(v[0,], bins=np.arange(v.min(), v.max(), 0.15),\n",
    "                                         density=True, label='Position')\n",
    "\n",
    "mu = 1\n",
    "sigma = np.sqrt(diffusion)\n",
    "_v = np.arange(mu - 5*sigma, mu + 5*sigma, 0.01)\n",
    "stat_dist = stats.norm.pdf(_v, mu, sigma)\n",
    "\n",
    "ax.plot(_v, stat_dist, label=r'Stationary D$^{\\mathrm{n}}$')\n",
    "ax.set_ylim(0, max(stat_dist.max(),n_v.max())+0.1)\n",
    "ax.set_xlim(v.min(), v.max())\n",
    "ax.set_xlabel('Position', fontsize=20)\n",
    "ax.set_ylabel('Density', fontsize=20)\n",
    "def animate(i,framestep):\n",
    "    n_v, _ = np.histogram(v[:i*framestep,],\n",
    "                            bins=np.arange(v.min(), v.max(), 0.15),\n",
    "                            density=True)\n",
    "    for rect_v, height_v in zip(patches_v, n_v):\n",
    "          rect_v.set_height(height_v)\n",
    "    fig.suptitle('t = {:.2f}'.format(t[i*framestep]), fontsize=20)\n",
    "    fig.show()\n",
    "\n",
    "framestep = 1\n",
    "ani = animation.FuncAnimation(fig, lambda i: animate(i, framestep), interval=60,\n",
    "                              frames=len(t)//framestep, repeat=False)\n",
    "plt.show()"
   ]
  },
  {
   "cell_type": "markdown",
   "metadata": {},
   "source": [
    "switch animation"
   ]
  },
  {
   "cell_type": "markdown",
   "metadata": {},
   "source": [
    "## PDE Simulation\n",
    "- FD\n",
    "- Space hom show agreement with particle model in histogram\n",
    "- Exponential Convergence of moments\n",
    "- Long time L1 error, asymmetry\n",
    "- FV method\n",
    "- agreement in histogram, visual with FD\n",
    "- symmetric error\n",
    "- Mesh refinement errors\n",
    "- \n"
   ]
  },
  {
   "cell_type": "markdown",
   "metadata": {},
   "source": [
    "## Space Het Particle Model\n",
    "Visual switch"
   ]
  }
 ],
 "metadata": {
  "kernelspec": {
   "display_name": "Python 3",
   "language": "python",
   "name": "python3"
  },
  "language_info": {
   "codemirror_mode": {
    "name": "ipython",
    "version": 3
   },
   "file_extension": ".py",
   "mimetype": "text/x-python",
   "name": "python",
   "nbconvert_exporter": "python",
   "pygments_lexer": "ipython3",
   "version": "3.7.3"
  }
 },
 "nbformat": 4,
 "nbformat_minor": 2
}
