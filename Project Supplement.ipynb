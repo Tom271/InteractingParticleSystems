{
 "cells": [
  {
   "cell_type": "markdown",
   "metadata": {},
   "source": [
    "<center>\n",
    "    <h1> Extended Project Supplement</h1>\n",
    "</center>\n",
    "\n",
    "Interactive plots + animations corresponding to figures\n",
    "- Code for all figures??\n",
    "- Numerical Methods \n",
    "- Application to model\n",
    "- Space homogeneity\n",
    "- Space inhomogeneity\n",
    "- Python .py file too?\n"
   ]
  },
  {
   "cell_type": "code",
   "execution_count": null,
   "metadata": {},
   "outputs": [],
   "source": [
    "import numpy as np\n",
    "from numpy.random import normal, uniform\n",
    "import scipy.stats as stats\n",
    "\n",
    "import matplotlib.pyplot as plt\n",
    "import matplotlib.animation as animation\n",
    "import seaborn as sns\n",
    "sns.set()\n",
    "sns.color_palette('colorblind')\n",
    "cmap = plt.get_cmap('plasma')\n",
    "\n",
    "\n",
    "from src import herding as herd\n",
    "from src import SpaceHet as het\n",
    "from src import SpaceHom as hom\n",
    "from src import ToyProblems as TP\n",
    "from src.plotting import hom_plot as homplt\n",
    "from src.plotting import het_plot as hetplt\n",
    "\n",
    "savepath = './Report/Figures/'\n",
    "save = False"
   ]
  },
  {
   "cell_type": "markdown",
   "metadata": {},
   "source": [
    "## Toy Problems"
   ]
  },
  {
   "cell_type": "markdown",
   "metadata": {},
   "source": [
    "- Heat eqn, adv eqn\n",
    "- Mesh refinement error\n",
    "- OU particles"
   ]
  },
  {
   "cell_type": "markdown",
   "metadata": {},
   "source": [
    "### Heat Equation"
   ]
  },
  {
   "cell_type": "markdown",
   "metadata": {},
   "source": [
    "Solving the heat equation using finite differences. To see the sensitivity of FTCS on mesh size, try violating the stability condition $\\frac{\\sigma \\Delta t}{\\Delta x}^2 < \\frac{1}{2}$. For example, set `diffusion = 1, timestep = 0.01, spacestep = 0.1`"
   ]
  },
  {
   "cell_type": "code",
   "execution_count": null,
   "metadata": {
    "hide_input": true,
    "scrolled": false
   },
   "outputs": [],
   "source": [
    "%matplotlib inline\n",
    "diffusion = 1\n",
    "timestep = 0.005\n",
    "spacestep = 0.1\n",
    "T_final = 5\n",
    "domain_size = 5\n",
    "def indicator(x): return np.array([int(i>=-1 and i<=0) for i in x])\n",
    "def gaussian(x): return stats.norm.pdf(x, loc=0, scale=1)\n",
    "\n",
    "initial_data = gaussian\n",
    "diff_solvers = [TP.FTCS, TP.BTCS, TP.CN]\n",
    "\n",
    "###############################################################################\n",
    "fig, ax = plt.subplots(len(diff_solvers), 1, figsize=(10,10))\n",
    "#fig.suptitle('Heat Equation in 1D', fontsize=16)\n",
    "\n",
    "if len(diff_solvers)==1:\n",
    "    ax = [ax]\n",
    "\n",
    "for idx, solver in enumerate(diff_solvers):\n",
    "    x, sol = TP.solve_heat_eqn(solver=solver, dt=timestep, dx=spacestep,\n",
    "                            T_end=T_final, L=domain_size, initial_dist=initial_data)\n",
    "    homplt.static_line(x, sol, solver, ax[idx])\n",
    "\n",
    "    plt.tight_layout(rect=[0, 0.03, 1, 0.95])\n",
    "\n",
    "if save:\n",
    "    plt.savefig(savepath+'{}.eps'.format(timestep), format='eps', dpi=1000)"
   ]
  },
  {
   "cell_type": "markdown",
   "metadata": {},
   "source": [
    "### Advection Equation"
   ]
  },
  {
   "cell_type": "markdown",
   "metadata": {},
   "source": [
    "Solving the advection equation using finite differences and finite volumes. Both methods are sensitive to mesh spacing. For example, set `wavespeed = 1, timestep = 0.21, spacestep = 0.1`. Also note the artificial dispersion introduced, regardless of spacing."
   ]
  },
  {
   "cell_type": "code",
   "execution_count": null,
   "metadata": {
    "hide_input": true,
    "scrolled": false
   },
   "outputs": [],
   "source": [
    "wavespeed = 1\n",
    "T_final = 20\n",
    "timestep = 0.01\n",
    "spacestep = 0.012\n",
    "domain_size = 10 \n",
    "def indicator(x): return np.array([int(i>=-1 and i<=0) for i in x])\n",
    "def gaussian(x): return stats.norm.pdf(x, loc=0, scale=1)\n",
    "initial_data = indicator\n",
    "adv_solvers = [TP.upwind, TP.FV_upwind]\n",
    "\n",
    "\n",
    "###############################################################################\n",
    "fig, ax = plt.subplots(len(adv_solvers), 1, figsize=(10,10))\n",
    "#fig.suptitle('Advection Equation in 1D', fontsize=16)\n",
    "cmap = plt.get_cmap('plasma')\n",
    "if len(adv_solvers)==1:\n",
    "    ax = [ax]\n",
    "for idx, solver in enumerate(adv_solvers):\n",
    "    adv_x, adv_sol = TP.solve_adv_eqn(solver=solver, a=wavespeed,\n",
    "                                      dt=timestep, dx=spacestep,\n",
    "                                      T_end=T_final, L=domain_size,\n",
    "                                      initial_dist=initial_data)\n",
    "    #TODO: check plot\n",
    "    homplt.static_line(adv_x, adv_sol, solver, ax[idx])\n",
    "    \n",
    "plt.tight_layout(rect=[0, 0.03, 1, 0.95])\n",
    "plt.show()\n",
    "\n",
    "if save:\n",
    "    plt.savefig(savepath+'adv'+initial_data.__name__+'.eps', format='eps', dpi=1000)"
   ]
  },
  {
   "cell_type": "markdown",
   "metadata": {},
   "source": [
    "### Particle System with Langevin Dynamics\n"
   ]
  },
  {
   "cell_type": "markdown",
   "metadata": {},
   "source": [
    "Outputs an animation of histogram of particles at each timestep. Along with the mean velocity and variance of all particles at each timestep."
   ]
  },
  {
   "cell_type": "code",
   "execution_count": null,
   "metadata": {
    "hide_input": false
   },
   "outputs": [],
   "source": [
    "%matplotlib qt\n",
    "particle_count = 500\n",
    "diffusion = 1\n",
    "initial_data = normal(loc=0.5, scale=np.sqrt(2), size=particle_count)#uniform(low=0, high=1, size=particle_count)\n",
    "timestep = 0.01\n",
    "T_final = 30\n",
    "\n",
    "animate = True\n",
    "#If animation is too slow, increase framestep.\n",
    "framestep = 1\n",
    "###############################################################################\n",
    "# t, x, [m1, var] = TP.run_OU_process(particles=particle_count,\n",
    "#                    D=diffusion,\n",
    "#                    initial_dist=initial_data,\n",
    "#                    dt=timestep,\n",
    "#                    T_end=T_final)\n",
    "#ani = homplt.anim_hist_moments(t, x, m1, var, mu=0,\n",
    "#                               D=diffusion, fs=framestep, animate=animate)\n",
    "#plt.show()\n",
    "timesteps = np.logspace(0,-5, 10)\n",
    "error = np.zeros((2,len(timesteps)))\n",
    "avg_error = np.zeros((2,len(timesteps)))\n",
    "for i in range(10):\n",
    "    for idx, t in enumerate(timesteps):\n",
    "        t, x, [m1, var] = TP.run_OU_process(particles=particle_count,\n",
    "                       D=diffusion,\n",
    "                       initial_dist=initial_data,\n",
    "                       dt=t,\n",
    "                       T_end=T_final)\n",
    "        error[:,idx] = abs(m1[-1]), abs(var[-1]-1)\n",
    "        print('Round {}/{}  complete'.format(idx+1,len(timesteps)))\n",
    "    print('#'*20+'ROUND {} COMPLETE'.format(i))\n",
    "    avg_error += error\n",
    "avg_error /= 10"
   ]
  },
  {
   "cell_type": "code",
   "execution_count": null,
   "metadata": {
    "hide_input": false,
    "scrolled": false
   },
   "outputs": [],
   "source": [
    "fig, ax = plt.subplots()\n",
    "ax.plot(timesteps, avg_error[0,], '*', label='Mean', c='red', markeredgecolor='none')\n",
    "ax.plot(timesteps, avg_error[1,], '*',label='Variance', c='blue', markeredgecolor='none')\n",
    "#ax.plot(timesteps, 10**(0.5*timesteps)-1, 'k--', alpha=0.5)\n",
    "ax.set_yscale('log')\n",
    "ax.set_xscale('log')\n",
    "ax.legend()\n",
    "plt.show()"
   ]
  },
  {
   "cell_type": "markdown",
   "metadata": {},
   "source": [
    "Plot histogram of positions and 5 sample paths"
   ]
  },
  {
   "cell_type": "code",
   "execution_count": null,
   "metadata": {
    "hide_input": true
   },
   "outputs": [],
   "source": [
    "%matplotlib inline\n",
    "T_final = 100\n",
    "\n",
    "###############################################################################\n",
    "t, x, [m1, var] = TP.run_OU_process(particles=particle_count,\n",
    "                   D=diffusion,\n",
    "                   initial_dist=initial_data,\n",
    "                   dt=timestep,\n",
    "                   T_end=T_final)\n",
    "\n",
    "fig, ax = plt.subplots(1,2, figsize=(16,8))\n",
    "n_x, bins_x, patches_x = ax[0].hist(x[-750:].flatten(),\n",
    "                                    bins=np.arange(x.min(), x.max(), 0.15),\n",
    "                                    density=True, label='Position')\n",
    "\n",
    "mu = 0\n",
    "D = 1\n",
    "sigma = np.sqrt(D)\n",
    "_x = np.arange(mu - 5*sigma, mu + 5*sigma, 0.01)\n",
    "stat_dist = stats.norm.pdf(_x, mu, sigma)\n",
    "\n",
    "ax[0].plot(_x, stat_dist, 'r--')\n",
    "ax[0].set_xlabel('Position', fontsize=18)\n",
    "ax[0].set_ylabel('Density', fontsize=18)\n",
    "for _ in range(3):\n",
    "    ax[1].plot(t[:500], x[:500,_], label='Particle {}'.format(_+1))\n",
    "ax[1].set_xlabel('Time', fontsize=18)\n",
    "ax[1].set_ylabel('Position', fontsize=18)\n",
    "fig.show()\n",
    "if save:\n",
    "    fig.savefig(savepath+'OUparticletraj.eps', format='eps', dpi=1000)\n"
   ]
  },
  {
   "cell_type": "markdown",
   "metadata": {},
   "source": [
    "# Space Homogeneous System\n",
    "\n",
    "## Particle Model Simulation\n",
    "\n",
    "OU process is same as space homogeneous with no interaction. Combine Interaction, histograms \n"
   ]
  },
  {
   "cell_type": "code",
   "execution_count": null,
   "metadata": {
    "hide_input": true,
    "scrolled": true
   },
   "outputs": [],
   "source": [
    "%matplotlib qt\n",
    "particle_count = 1000\n",
    "diffusion = 1\n",
    "initial_data = uniform(low=-2, high=1, size=particle_count)\n",
    "timestep = 0.01\n",
    "T_final = 50\n",
    "herding_function = herd.smooth_G\n",
    "\n",
    "framestep = 5\n",
    "animate = True\n",
    "\n",
    "t, v, [M1, var] = hom.run_particle_model(particles=particle_count,\n",
    "                   D=diffusion,\n",
    "                   initial_dist=initial_data,\n",
    "                   dt=timestep,\n",
    "                   T_end=T_final,\n",
    "                   G=herding_function)\n",
    "\n",
    "n, bins, patches = plt.hist(v[-500:].flatten(), bins=np.arange(v.min(), v.max(), 0.15),\n",
    "                           density=True, label='Velocity')\n",
    "stat_mu = np.sign(v[0,].mean())\n",
    "stat_sigma = np.sqrt(diffusion)\n",
    "_v = np.arange(stat_mu - 5*stat_sigma, stat_mu + 5*stat_sigma, 0.01)\n",
    "stat_dist = stats.norm.pdf(_v, stat_mu, stat_sigma)\n",
    "\n",
    "plt.plot(_v, stat_dist, '-.',label=r'Stationary D$^{\\mathrm{n}}$')\n",
    "plt.show()\n",
    "\n",
    "\n",
    "ani = homplt.anim_hist_moments(t, v, M1, var, mu=stat_mu,\n",
    "                               D=diffusion, fs=framestep, animate=animate)\n",
    "plt.show()"
   ]
  },
  {
   "cell_type": "markdown",
   "metadata": {},
   "source": [
    "## Kinetic Model"
   ]
  },
  {
   "cell_type": "markdown",
   "metadata": {},
   "source": [
    "- Long time L1 error, asymmetry\n",
    "- FV method\n",
    "- agreement in histogram, visual with FD\n",
    "- symmetric error\n",
    "- Mesh refinement errors"
   ]
  },
  {
   "cell_type": "markdown",
   "metadata": {},
   "source": [
    "Use the function below to see the convergence in moments for the finite difference method compared to the particle system, as well as an animation (if `animate = True`) of the solution evolving in time."
   ]
  },
  {
   "cell_type": "code",
   "execution_count": null,
   "metadata": {
    "scrolled": true
   },
   "outputs": [],
   "source": [
    "%matplotlib qt\n",
    "diffusion = 1\n",
    "particle_count = 1000\n",
    "timestep = 0.001\n",
    "T_final = 20\n",
    "domain_size = 8\n",
    "spacestep = 0.05\n",
    "\n",
    "herding_function = herd.smooth_G\n",
    "#Set initial data for Gaussian\n",
    "mu_init = -0.5\n",
    "sd_init = 0.9\n",
    "\n",
    "#Set max/min for indicator\n",
    "max_init = 0\n",
    "min_init = -1\n",
    "\n",
    "gaussian = {'particle': normal(loc=mu_init, scale=sd_init ,size=particle_count),\n",
    "            'pde': lambda x: stats.norm.pdf(x, loc=mu_init, scale=sd_init)}\n",
    "\n",
    "indicator = {'particle': uniform(low=min_init, high=max_init, size=particle_count),\n",
    "            'pde': lambda x: np.array([int(i>=min_init and i<=max_init) for i in x])} \n",
    "\n",
    "\n",
    "initial_data = gaussian #Choose indicator or Gaussian\n",
    "\n",
    "framestep = 10\n",
    "animate = True\n",
    "\n",
    "###############################################################################\n",
    "v, F, moments = hom.FD_solve_hom_PDE(D=diffusion,\n",
    "                                      initial_dist=initial_data['pde'],\n",
    "                                      dt=timestep, T_end=T_final, L=domain_size,\n",
    "                                      dv=spacestep, G=herding_function)\n",
    "FV_v, FV_F, FV_moments = hom.FV_solve_hom_PDE(D=diffusion,\n",
    "                                      initial_dist=initial_data['pde'],\n",
    "                                      dt=timestep, T_end=T_final, L=domain_size,\n",
    "                                      dv=spacestep, G=herding_function)\n",
    "\n",
    "t, traj, [M1, var] = hom.run_particle_model(particles=particle_count,\n",
    "                   D=diffusion,\n",
    "                   initial_dist=initial_data['particle'],\n",
    "                   dt=timestep,\n",
    "                   T_end=T_final,\n",
    "                   G=herding_function)\n",
    "if animate:\n",
    "    ani = homplt.animate_PDE_hist(t, v, traj , F)\n",
    "    plt.show()\n",
    "\n",
    "fig,ax=plt.subplots()\n",
    "#ax.plot(t[1:], M1, label='Particle Mean')\n",
    "#ax.plot(t[1:], var, label='Particle Variance')\n",
    "stat_mu = np.sign(F[0,].mean())\n",
    "mu_0 =  moments[1][0] \n",
    "mean_ode = np.sign(mu_0) - np.sign(mu_0)*(-abs(mu_0) + 1)*np.exp(-0.5 * t)\n",
    "var_0 = moments[2][0]-moments[1][0]**2\n",
    "var_ode = diffusion +(var_0-diffusion)*np.exp(-2*t)\n",
    "ax.plot(t, mean_ode, 'r:')\n",
    "ax.plot(t, var_ode, 'b:')\n",
    "ax.plot(t[1:], moments[1], label='PDE Mean')\n",
    "ax.plot(t[1:], moments[2]-moments[1]**2, label=' PDE Variance')\n",
    "\n",
    "ax.plot(t[1:], FV_moments[1], label='FV PDE Mean')\n",
    "ax.plot(t[1:], FV_moments[2]-FV_moments[1]**2, label='FV PDE Variance')\n",
    "\n",
    "ax.set_xlabel('Time')\n",
    "ax.legend(loc='best')\n",
    "fig.show()"
   ]
  },
  {
   "cell_type": "markdown",
   "metadata": {},
   "source": [
    "Rather than the eyeball metric, we can quantify the error in the stationary distribution for different discretisations below. The first cell gives the L^1 error, the second shows how time step and space step affect accuracy"
   ]
  },
  {
   "cell_type": "code",
   "execution_count": null,
   "metadata": {},
   "outputs": [],
   "source": [
    "%matplotlib inline\n",
    "diffusion = 1\n",
    "timestep = 0.001\n",
    "T_final = 20\n",
    "domain_size = 6\n",
    "spacestep = 0.1\n",
    "particle_count = 100\n",
    "herding_function = herd.smooth_G\n",
    "#Set initial data for Gaussian\n",
    "mu_init = -1.5\n",
    "sd_init = 0.5\n",
    "\n",
    "#Set max/min for indicator\n",
    "max_init = 0\n",
    "min_init = -1\n",
    "\n",
    "gaussian = {'particle': normal(loc=mu_init, scale=sd_init ,size=particle_count),\n",
    "            'pde': lambda x: stats.norm.pdf(x, loc=mu_init, scale=sd_init)}\n",
    "\n",
    "indicator = {'particle': uniform(low=min_init, high=max_init, size=particle_count),\n",
    "            'pde': lambda x: np.array([int(i>=min_init and i<=max_init) for i in x])} \n",
    "\n",
    "\n",
    "initial_data = gaussian #Choose indicator or Gaussian\n",
    "\n",
    "\n",
    "v, F_diff, moments_diff = hom.FD_solve_hom_PDE(D=diffusion,\n",
    "                                      initial_dist=initial_data['pde'],\n",
    "                                      dt=timestep, T_end=T_final, L=domain_size,\n",
    "                                      dv=spacestep, G=herding_function)\n",
    "\n",
    "v, F_vol, moments_vol = hom.FV_solve_hom_PDE(D=diffusion,\n",
    "                                      initial_dist=initial_data['pde'],\n",
    "                                      dt=timestep, T_end=T_final, L=domain_size,\n",
    "                                      dv=spacestep, G=herding_function)\n",
    "\n",
    "stat_mu = np.sign(F_diff[0,].mean())\n",
    "stat_dist = stats.norm.pdf(v, stat_mu, np.sqrt(diffusion))\n",
    "plt.plot(v, stat_dist - F_vol[-1,], label='Fin Vol Solver Error')\n",
    "plt.plot(v, stat_dist - F_diff[-1,], label='Static Solver Error')\n",
    "\n",
    "plt.legend()\n",
    "plt.show()"
   ]
  },
  {
   "cell_type": "code",
   "execution_count": null,
   "metadata": {
    "scrolled": false
   },
   "outputs": [],
   "source": [
    "diffusion = 1\n",
    "timestep = 0.001\n",
    "T_final = 10\n",
    "domain_size = 6\n",
    "spacestep = 0.1\n",
    "particle_count = 100\n",
    "herding_function = herd.smooth_G\n",
    "#Set initial data for Gaussian\n",
    "mu_init = -1.5\n",
    "sd_init = 0.5\n",
    "\n",
    "#Set max/min for indicator\n",
    "max_init = 0\n",
    "min_init = -1\n",
    "\n",
    "gaussian = {'particle': normal(loc=mu_init, scale=sd_init ,size=particle_count),\n",
    "            'pde': lambda x: stats.norm.pdf(x, loc=mu_init, scale=sd_init)}\n",
    "\n",
    "indicator = {'particle': uniform(low=min_init, high=max_init, size=particle_count),\n",
    "            'pde': lambda x: np.array([int(i>=min_init and i<=max_init) for i in x])} \n",
    "\n",
    "\n",
    "initial_data = gaussian #Choose indicator or Gaussian\n",
    "\n",
    "\n",
    "timesteps = np.logspace(0,-6,10)\n",
    "spacesteps = np.sqrt(2*diffusion*timesteps)\n",
    "print(timesteps)\n",
    "error = np.zeros(len(timesteps))\n",
    "for idx, t in enumerate(timesteps):\n",
    "    v, F_diff, moments_diff = hom.FD_solve_hom_PDE(D=diffusion,\n",
    "                                      initial_dist=initial_data['pde'],\n",
    "                                      dt=t, T_end=T_final, L=domain_size,\n",
    "                                      dv=spacesteps[idx], G=herding_function)\n",
    "\n",
    "#     v, F_vol, moments_vol = hom.FV_solve_hom_PDE(D=diffusion,\n",
    "#                                       initial_dist=initial_data['pde'],\n",
    "#                                       dt=t, T_end=T_final, L=domain_size,\n",
    "#                                       dv=spacestep, G=herding_function)\n",
    "#     error[:,idx] = np.array([(spacestep/(2*domain_size))*abs(stat_dist - F_vol[-1,]).sum(),\n",
    "#                     (spacestep/(2*domain_size))*abs(stat_dist - F_diff[-1,]).sum()])\n",
    "    stat_mu = np.sign(F_diff[0,].mean())\n",
    "    stat_dist = stats.norm.pdf(v, stat_mu, np.sqrt(diffusion))\n",
    "\n",
    "    error[idx] = abs(stat_dist - F_diff[-1,]).sum()\n",
    "    print(error)\n",
    "\n",
    "plt.plot(timesteps, error)\n",
    "#plt.plot(timesteps, error[1,])\n",
    "plt.show()"
   ]
  },
  {
   "cell_type": "code",
   "execution_count": null,
   "metadata": {
    "scrolled": true
   },
   "outputs": [],
   "source": [
    "timesteps = np.logspace(-3,-4,5)\n",
    "spacesteps = [0.1]*5\n",
    "print(timesteps, spacesteps)\n",
    "error = np.zeros(len(timesteps))\n",
    "for idx, t in enumerate(timesteps):\n",
    "#     v, F_diff, moments_diff = hom.FD_solve_hom_PDE(D=diffusion,\n",
    "#                                       initial_dist=initial_data['pde'],\n",
    "#                                       dt=t, T_end=T_final, L=domain_size,\n",
    "#                                       dv=spacesteps[idx], G=herding_function)\n",
    "\n",
    "    v, F_vol, moments_vol = hom.FV_solve_hom_PDE(D=diffusion,\n",
    "                                      initial_dist=initial_data['pde'],\n",
    "                                      dt=t, T_end=T_final, L=domain_size,\n",
    "                                      dv=spacesteps[idx], G=herding_function)\n",
    "#     error[:,idx] = np.array([(spacestep/(2*domain_size))*abs(stat_dist - F_vol[-1,]).sum(),\n",
    "#                     (spacestep/(2*domain_size))*abs(stat_dist - F_diff[-1,]).sum()])\n",
    "    stat_mu = np.sign(F_vol[0,].mean())\n",
    "    stat_dist = stats.norm.pdf(v, stat_mu, np.sqrt(diffusion))\n",
    "\n",
    "    error[idx] = abs(stat_dist - F_vol[-1,]).sum()\n",
    "    print(error)\n",
    "\n",
    "plt.plot(timesteps, error)\n",
    "#plt.plot(timesteps, error[1,])\n",
    "plt.show()"
   ]
  },
  {
   "cell_type": "markdown",
   "metadata": {},
   "source": [
    "If the system is ran for a long time with a low number of particles, we see switches in stability and convergence to a distribution with mean zero."
   ]
  },
  {
   "cell_type": "code",
   "execution_count": null,
   "metadata": {
    "scrolled": true
   },
   "outputs": [],
   "source": [
    "%matplotlib qt\n",
    "particle_count = 6\n",
    "diffusion = 1\n",
    "initial_data = indicator\n",
    "timestep = 0.01\n",
    "T_final = 500\n",
    "herding_function = herd.smooth_G\n",
    "\n",
    "framestep = 50\n",
    "animate = True\n",
    "\n",
    "t, v, [M1, var] = hom.run_particle_model(particles=particle_count,\n",
    "                   D=diffusion,\n",
    "                   initial_dist=initial_data['particle'],\n",
    "                   dt=timestep,\n",
    "                   T_end=T_final,\n",
    "                   G=herding_function)\n",
    "stat_mu = np.sign(v[0,].mean())\n",
    "stat_sigma = np.sqrt(diffusion)\n",
    "_v = np.arange(stat_mu - 5*stat_sigma, stat_mu + 5*stat_sigma, 0.01)\n",
    "stat_dist = stats.norm.pdf(_v, stat_mu, stat_sigma)\n",
    "\n",
    "ani = homplt.anim_hist_moments(t, v, M1, var, mu=stat_mu, D=diffusion,\n",
    "                               fs=framestep, animate=animate, timeavg=True)\n",
    "plt.show()"
   ]
  },
  {
   "cell_type": "markdown",
   "metadata": {},
   "source": [
    "## Space Heterogeneous Particle Model\n"
   ]
  },
  {
   "cell_type": "code",
   "execution_count": null,
   "metadata": {},
   "outputs": [],
   "source": [
    "%matplotlib inline\n",
    "particle_count = 100\n",
    "diffusion = 1\n",
    "initial_data_x = np.pi/2\n",
    "timestep = 0.01\n",
    "T_final = 200\n",
    "herding_function = herd.step_G\n",
    "\n",
    "#Set initial data for Gaussian\n",
    "mu_init = -1.5\n",
    "sd_init = 0.5\n",
    "\n",
    "#Set max/min for indicator\n",
    "max_init = 2\n",
    "min_init = 1\n",
    "\n",
    "gaussian = {'particle': normal(loc=mu_init, scale=sd_init ,size=particle_count),\n",
    "            'pde': lambda x: stats.norm.pdf(x, loc=mu_init, scale=sd_init)}\n",
    "\n",
    "indicator = {'particle': uniform(low=min_init, high=max_init, size=particle_count),\n",
    "            'pde': lambda x: np.array([int(i>=min_init and i<=max_init) for i in x])} \n",
    "\n",
    "\n",
    "initial_data_v = indicator #Choose indicator or Gaussian\n",
    "\n",
    "\n",
    "t, x, v = het.run_particle_model(particles = particle_count, D=diffusion,\n",
    "                          initial_dist_x=initial_data_x,\n",
    "                          initial_dist_v=initial_data_v['particle'],\n",
    "                          dt=0.01, T_end=200, G=herd.step_G)"
   ]
  },
  {
   "cell_type": "code",
   "execution_count": null,
   "metadata": {},
   "outputs": [],
   "source": [
    "g = sns.jointplot(x.flatten(), v.flatten(), kind=\"hex\", height=7, space=0)"
   ]
  },
  {
   "cell_type": "code",
   "execution_count": null,
   "metadata": {},
   "outputs": [],
   "source": [
    "%matplotlib inline\n",
    "fig, ax = plt.subplots()\n",
    "\n",
    "hetplt.plot_vel_hist(slice(-1000,-1), t,x,v,ax)\n",
    "fig.show()"
   ]
  },
  {
   "cell_type": "code",
   "execution_count": null,
   "metadata": {},
   "outputs": [],
   "source": [
    "%matplotlib qt\n",
    "conv_to_pos  = hetplt.anim_full(t, x, v, framestep=5)"
   ]
  }
 ],
 "metadata": {
  "kernelspec": {
   "display_name": "Python 3",
   "language": "python",
   "name": "python3"
  },
  "language_info": {
   "codemirror_mode": {
    "name": "ipython",
    "version": 3
   },
   "file_extension": ".py",
   "mimetype": "text/x-python",
   "name": "python",
   "nbconvert_exporter": "python",
   "pygments_lexer": "ipython3",
   "version": "3.7.3"
  }
 },
 "nbformat": 4,
 "nbformat_minor": 2
}
