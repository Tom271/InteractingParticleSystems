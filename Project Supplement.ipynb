{
 "cells": [
  {
   "cell_type": "markdown",
   "metadata": {},
   "source": [
    "<center>\n",
    "    <h1> Extended Project Supplement</h1>\n",
    "</center>\n",
    "\n",
    "Interactive plots + animations corresponding to figures\n",
    "- Code for all figures??\n",
    "- Numerical Methods \n",
    "- Application to model\n",
    "- Space homogeneity\n",
    "- Space inhomogeneity\n",
    "- Python .py file too?\n"
   ]
  },
  {
   "cell_type": "code",
   "execution_count": null,
   "metadata": {},
   "outputs": [],
   "source": [
    "import numpy as np\n",
    "from numpy.random import normal, uniform\n",
    "import scipy.stats as stats\n",
    "\n",
    "import matplotlib.pyplot as plt\n",
    "import matplotlib.animation as animation\n",
    "import seaborn as sns\n",
    "sns.set()\n",
    "sns.color_palette('colorblind')\n",
    "cmap = plt.get_cmap('plasma')\n",
    "\n",
    "\n",
    "from src import herding as herd\n",
    "from src import ToyProblems as TP\n",
    "from src import SpaceHom as hom\n",
    "from src.plotting import hom_plot as homplt\n",
    "\n",
    "savepath = './Report/Figures/'\n",
    "save = False"
   ]
  },
  {
   "cell_type": "markdown",
   "metadata": {},
   "source": [
    "## Toy Problems"
   ]
  },
  {
   "cell_type": "markdown",
   "metadata": {},
   "source": [
    "- Heat eqn, adv eqn\n",
    "- Mesh refinement error\n",
    "- OU particles"
   ]
  },
  {
   "cell_type": "markdown",
   "metadata": {},
   "source": [
    "### Heat Equation"
   ]
  },
  {
   "cell_type": "markdown",
   "metadata": {},
   "source": [
    "Solving the heat equation using finite differences. To see the sensitivity of FTCS on mesh size, try violating the stability condition $\\frac{\\sigma \\Delta t}{\\Delta x}^2 < \\frac{1}{2}$. For example, set `diffusion = 1, timestep = 0.01, spacestep = 0.1`"
   ]
  },
  {
   "cell_type": "code",
   "execution_count": null,
   "metadata": {
    "scrolled": false
   },
   "outputs": [],
   "source": [
    "%matplotlib inline\n",
    "diffusion = 1\n",
    "timestep = 0.005\n",
    "spacestep = 0.1\n",
    "T_final = 5\n",
    "domain_size = 5\n",
    "def indicator(x): return np.array([int(i>=-1 and i<=0) for i in x])\n",
    "def gaussian(x): return stats.norm.pdf(x, loc=0, scale=1)\n",
    "\n",
    "initial_data = gaussian\n",
    "diff_solvers = [TP.FTCS, TP.BTCS, TP.CN]\n",
    "\n",
    "###############################################################################\n",
    "fig, ax = plt.subplots(len(diff_solvers), 1, figsize=(10,10))\n",
    "#fig.suptitle('Heat Equation in 1D', fontsize=16)\n",
    "\n",
    "if len(diff_solvers)==1:\n",
    "    ax = [ax]\n",
    "\n",
    "for idx, solver in enumerate(diff_solvers):\n",
    "    x, sol = TP.solve_heat_eqn(solver=solver, dt=timestep, dx=spacestep,\n",
    "                            T_end=T_final, L=domain_size, initial_dist=initial_data)\n",
    "    homplt.static_line(x, sol, solver, ax[idx])\n",
    "\n",
    "    plt.tight_layout(rect=[0, 0.03, 1, 0.95])\n",
    "\n",
    "if save:\n",
    "    plt.savefig(savepath+'{}.eps'.format(timestep), format='eps', dpi=1000)"
   ]
  },
  {
   "cell_type": "markdown",
   "metadata": {},
   "source": [
    "### Advection Equation"
   ]
  },
  {
   "cell_type": "markdown",
   "metadata": {},
   "source": [
    "Solving the advection equation using finite differences and finite volumes. Both methods are sensitive to mesh spacing. For example, set `wavespeed = 1, timestep = 0.21, spacestep = 0.1`. Also note the artificial dispersion introduced, regardless of spacing."
   ]
  },
  {
   "cell_type": "code",
   "execution_count": null,
   "metadata": {
    "scrolled": false
   },
   "outputs": [],
   "source": [
    "wavespeed = 0.5\n",
    "T_final = 3\n",
    "timestep = 0.01\n",
    "spacestep = 0.1\n",
    "domain_size = 5 \n",
    "def indicator(x): return np.array([int(i>=-1 and i<=0) for i in x])\n",
    "def gaussian(x): return stats.norm.pdf(x, loc=0, scale=1)\n",
    "initial_data = indicator\n",
    "adv_solvers = [TP.upwind, TP.FV_upwind]\n",
    "\n",
    "\n",
    "###############################################################################\n",
    "fig, ax = plt.subplots(len(adv_solvers), 1, figsize=(10,10))\n",
    "#fig.suptitle('Advection Equation in 1D', fontsize=16)\n",
    "cmap = plt.get_cmap('plasma')\n",
    "if len(adv_solvers)==1:\n",
    "    ax = [ax]\n",
    "for idx, solver in enumerate(adv_solvers):\n",
    "    adv_x, adv_sol = TP.solve_adv_eqn(solver=solver, a=wavespeed,\n",
    "                                      dt=timestep, dx=spacestep,\n",
    "                                      T_end=T_final, L=domain_size,\n",
    "                                      initial_dist=initial_data)\n",
    "    homplt.static_line(adv_x, adv_sol, solver, ax[idx])\n",
    "    \n",
    "plt.tight_layout(rect=[0, 0.03, 1, 0.95])\n",
    "plt.show()\n",
    "\n",
    "if save:\n",
    "    plt.savefig(savepath+'adv'+initial_data.__name__+'.eps', format='eps', dpi=1000)"
   ]
  },
  {
   "cell_type": "markdown",
   "metadata": {},
   "source": [
    "### Particle System with Langevin Dynamics\n"
   ]
  },
  {
   "cell_type": "markdown",
   "metadata": {},
   "source": [
    "Outputs an animation of histogram of particles at each timestep. Along with the mean velocity and variance of all particles at each timestep."
   ]
  },
  {
   "cell_type": "code",
   "execution_count": null,
   "metadata": {},
   "outputs": [],
   "source": [
    "%matplotlib qt\n",
    "particle_count = 1000\n",
    "diffusion = 1\n",
    "initial_data = uniform(low=2, high=4, size=particle_count)\n",
    "timestep = 0.01\n",
    "T_final = 5\n",
    "\n",
    "animate = True\n",
    "#If animation is too slow, increase framestep.\n",
    "framestep = 1\n",
    "###############################################################################\n",
    "t, x, [m1, var] = TP.run_OU_process(particles=particle_count,\n",
    "                   D=diffusion,\n",
    "                   initial_dist=initial_data,\n",
    "                   dt=timestep,\n",
    "                   T_end=T_final)\n",
    "ani = homplt.anim_hist_moments(t, x, m1, var, mu=0,\n",
    "                               D=diffusion, fs=framestep, animate=animate)\n",
    "plt.show()"
   ]
  },
  {
   "cell_type": "markdown",
   "metadata": {},
   "source": [
    "Plot histogram of positions and 5 sample paths"
   ]
  },
  {
   "cell_type": "code",
   "execution_count": null,
   "metadata": {},
   "outputs": [],
   "source": [
    "%matplotlib inline\n",
    "T_final = 100\n",
    "\n",
    "###############################################################################\n",
    "t, x, [m1, var] = TP.run_OU_process(particles=particle_count,\n",
    "                   D=diffusion,\n",
    "                   initial_dist=initial_data,\n",
    "                   dt=timestep,\n",
    "                   T_end=T_final)\n",
    "\n",
    "fig, ax = plt.subplots(1,2, figsize=(16,8))\n",
    "n_x, bins_x, patches_x = ax[0].hist(x[-750:].flatten(),\n",
    "                                    bins=np.arange(x.min(), x.max(), 0.15),\n",
    "                                    density=True, label='Position')\n",
    "\n",
    "mu = 0\n",
    "D = 1\n",
    "sigma = np.sqrt(D)\n",
    "_x = np.arange(mu - 5*sigma, mu + 5*sigma, 0.01)\n",
    "stat_dist = stats.norm.pdf(_x, mu, sigma)\n",
    "\n",
    "ax[0].plot(_x, stat_dist, 'r--')\n",
    "ax[0].set_xlabel('Position', fontsize=18)\n",
    "ax[0].set_ylabel('Density', fontsize=18)\n",
    "for _ in range(3):\n",
    "    ax[1].plot(t[:500], x[:500,_], label='Particle {}'.format(_+1))\n",
    "ax[1].set_xlabel('Time', fontsize=18)\n",
    "ax[1].set_ylabel('Position', fontsize=18)\n",
    "fig.show()\n",
    "if save:\n",
    "    fig.savefig(savepath+'OUparticletraj.eps', format='eps', dpi=1000)\n"
   ]
  },
  {
   "cell_type": "markdown",
   "metadata": {},
   "source": [
    "# Space Homogeneous System\n",
    "\n",
    "## Particle Model Simulation\n",
    "\n",
    "OU process is same as space homogeneous with no interaction. Combine Interaction, histograms \n"
   ]
  },
  {
   "cell_type": "code",
   "execution_count": null,
   "metadata": {
    "scrolled": true
   },
   "outputs": [],
   "source": [
    "%matplotlib qt\n",
    "particle_count = 1000\n",
    "diffusion = 1\n",
    "initial_data = uniform(low=-2, high=1, size=particle_count)\n",
    "timestep = 0.01\n",
    "T_final = 50\n",
    "herding_function = herd.smooth_G\n",
    "\n",
    "framestep = 5\n",
    "animate = True\n",
    "\n",
    "t, v, [M1, var] = hom.run_particle_model(particles=particle_count,\n",
    "                   D=diffusion,\n",
    "                   initial_dist=initial_data,\n",
    "                   dt=timestep,\n",
    "                   T_end=T_final,\n",
    "                   G=herding_function)\n",
    "\n",
    "n, bins, patches = plt.hist(v[-500:].flatten(), bins=np.arange(v.min(), v.max(), 0.15),\n",
    "                           density=True, label='Velocity')\n",
    "stat_mu = np.sign(v[0,].mean())\n",
    "stat_sigma = np.sqrt(diffusion)\n",
    "_v = np.arange(stat_mu - 5*stat_sigma, stat_mu + 5*stat_sigma, 0.01)\n",
    "stat_dist = stats.norm.pdf(_v, stat_mu, stat_sigma)\n",
    "\n",
    "plt.plot(_v, stat_dist, '-.',label=r'Stationary D$^{\\mathrm{n}}$')\n",
    "plt.show()\n",
    "\n",
    "\n",
    "ani = homplt.anim_hist_moments(t, v, M1, var, mu=stat_mu,\n",
    "                               D=diffusion, fs=framestep, animate=animate)\n",
    "plt.show()"
   ]
  },
  {
   "cell_type": "markdown",
   "metadata": {},
   "source": [
    "## Kinetic Model"
   ]
  },
  {
   "cell_type": "markdown",
   "metadata": {},
   "source": [
    "- FD\n",
    "- Space hom show agreement with particle model in histogram\n",
    "- Exponential Convergence of moments\n",
    "- Long time L1 error, asymmetry\n",
    "- FV method\n",
    "- agreement in histogram, visual with FD\n",
    "- symmetric error\n",
    "- Mesh refinement errors"
   ]
  },
  {
   "cell_type": "code",
   "execution_count": null,
   "metadata": {},
   "outputs": [],
   "source": [
    "diffusion = 1\n",
    "initial_data = uniform(low=-2, high=1, size=particle_count)\n",
    "timestep = 0.01\n",
    "T_final = 50\n",
    "domain_size = 5\n",
    "spacestep = 0.1\n",
    "\n",
    "herding_function = herd.smooth_G\n",
    "\n",
    "framestep = 5\n",
    "animate = True\n",
    "\n",
    "\n",
    "v, F, [M0, M1, M2] = FD_solve_hom_PDE(D=diffusion,\n",
    "                                      initial_dist=initial_data\n",
    "                                      dt=timestep, T_end=T_final, L=domain_size,\n",
    "                                      dv=space_step, G=herding_function)\n",
    "\n"
   ]
  },
  {
   "cell_type": "markdown",
   "metadata": {},
   "source": [
    "If the system is ran for a long time with a low number of particles, we see switches in stability and convergence to a distribution with mean zero."
   ]
  },
  {
   "cell_type": "code",
   "execution_count": null,
   "metadata": {},
   "outputs": [],
   "source": [
    "%matplotlib qt\n",
    "particle_count = 6\n",
    "diffusion = 1\n",
    "initial_data = uniform(low=-2, high=1, size=particle_count)\n",
    "timestep = 0.01\n",
    "T_final = 500\n",
    "herding_function = herd.smooth_G\n",
    "\n",
    "framestep = 50\n",
    "animate = True\n",
    "\n",
    "t, v, [M1, var] = hom.run_particle_model(particles=particle_count,\n",
    "                   D=diffusion,\n",
    "                   initial_dist=initial_data,\n",
    "                   dt=timestep,\n",
    "                   T_end=T_final,\n",
    "                   G=herding_function)\n",
    "stat_mu = np.sign(v[0,].mean())\n",
    "stat_sigma = np.sqrt(diffusion)\n",
    "_v = np.arange(stat_mu - 5*stat_sigma, stat_mu + 5*stat_sigma, 0.01)\n",
    "stat_dist = stats.norm.pdf(_v, stat_mu, stat_sigma)\n",
    "\n",
    "ani = homplt.anim_hist_moments(t, v, M1, var, mu=stat_mu, D=diffusion,\n",
    "                               fs=framestep, animate=animate, timeavg=True)\n",
    "plt.show()"
   ]
  },
  {
   "cell_type": "markdown",
   "metadata": {},
   "source": [
    "## Space Het Particle Model\n",
    "Visual switch"
   ]
  }
 ],
 "metadata": {
  "kernelspec": {
   "display_name": "Python 3",
   "language": "python",
   "name": "python3"
  },
  "language_info": {
   "codemirror_mode": {
    "name": "ipython",
    "version": 3
   },
   "file_extension": ".py",
   "mimetype": "text/x-python",
   "name": "python",
   "nbconvert_exporter": "python",
   "pygments_lexer": "ipython3",
   "version": "3.7.3"
  }
 },
 "nbformat": 4,
 "nbformat_minor": 2
}
