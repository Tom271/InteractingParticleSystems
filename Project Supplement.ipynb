{
 "cells": [
  {
   "cell_type": "markdown",
   "metadata": {},
   "source": [
    "<center>\n",
    "    <h1> Extended Project Supplement</h1>\n",
    "</center>\n",
    "\n",
    "Interactive plots + animations corresponding to figures\n",
    "- Code for all figures??\n",
    "- Numerical Methods \n",
    "- Application to model\n",
    "- Space homogeneity\n",
    "- Space inhomogeneity\n",
    "- Python .py file too?\n"
   ]
  },
  {
   "cell_type": "code",
   "execution_count": 17,
   "metadata": {},
   "outputs": [],
   "source": [
    "import numpy as np\n",
    "from numpy.random import normal, uniform\n",
    "import scipy.stats as stats\n",
    "\n",
    "import matplotlib.pyplot as plt\n",
    "import matplotlib.animation as animation\n",
    "import seaborn as sns\n",
    "sns.set()\n",
    "sns.color_palette('colorblind')\n",
    "cmap = plt.get_cmap('plasma')\n",
    "\n",
    "\n",
    "from src import herding as herd\n",
    "from src import SpaceHet as het\n",
    "from src import SpaceHom as hom\n",
    "from src import ToyProblems as TP\n",
    "from src.plotting import hom_plot as homplt\n",
    "\n",
    "savepath = './Report/Figures/'\n",
    "save = False"
   ]
  },
  {
   "cell_type": "markdown",
   "metadata": {},
   "source": [
    "## Toy Problems"
   ]
  },
  {
   "cell_type": "markdown",
   "metadata": {},
   "source": [
    "- Heat eqn, adv eqn\n",
    "- Mesh refinement error\n",
    "- OU particles"
   ]
  },
  {
   "cell_type": "markdown",
   "metadata": {},
   "source": [
    "### Heat Equation"
   ]
  },
  {
   "cell_type": "markdown",
   "metadata": {},
   "source": [
    "Solving the heat equation using finite differences. To see the sensitivity of FTCS on mesh size, try violating the stability condition $\\frac{\\sigma \\Delta t}{\\Delta x}^2 < \\frac{1}{2}$. For example, set `diffusion = 1, timestep = 0.01, spacestep = 0.1`"
   ]
  },
  {
   "cell_type": "code",
   "execution_count": null,
   "metadata": {
    "scrolled": false
   },
   "outputs": [],
   "source": [
    "%matplotlib inline\n",
    "diffusion = 1\n",
    "timestep = 0.005\n",
    "spacestep = 0.1\n",
    "T_final = 5\n",
    "domain_size = 5\n",
    "def indicator(x): return np.array([int(i>=-1 and i<=0) for i in x])\n",
    "def gaussian(x): return stats.norm.pdf(x, loc=0, scale=1)\n",
    "\n",
    "initial_data = gaussian\n",
    "diff_solvers = [TP.FTCS, TP.BTCS, TP.CN]\n",
    "\n",
    "###############################################################################\n",
    "fig, ax = plt.subplots(len(diff_solvers), 1, figsize=(10,10))\n",
    "#fig.suptitle('Heat Equation in 1D', fontsize=16)\n",
    "\n",
    "if len(diff_solvers)==1:\n",
    "    ax = [ax]\n",
    "\n",
    "for idx, solver in enumerate(diff_solvers):\n",
    "    x, sol = TP.solve_heat_eqn(solver=solver, dt=timestep, dx=spacestep,\n",
    "                            T_end=T_final, L=domain_size, initial_dist=initial_data)\n",
    "    homplt.static_line(x, sol, solver, ax[idx])\n",
    "\n",
    "    plt.tight_layout(rect=[0, 0.03, 1, 0.95])\n",
    "\n",
    "if save:\n",
    "    plt.savefig(savepath+'{}.eps'.format(timestep), format='eps', dpi=1000)"
   ]
  },
  {
   "cell_type": "markdown",
   "metadata": {},
   "source": [
    "### Advection Equation"
   ]
  },
  {
   "cell_type": "markdown",
   "metadata": {},
   "source": [
    "Solving the advection equation using finite differences and finite volumes. Both methods are sensitive to mesh spacing. For example, set `wavespeed = 1, timestep = 0.21, spacestep = 0.1`. Also note the artificial dispersion introduced, regardless of spacing."
   ]
  },
  {
   "cell_type": "code",
   "execution_count": null,
   "metadata": {
    "scrolled": false
   },
   "outputs": [],
   "source": [
    "wavespeed = 0.5\n",
    "T_final = 3\n",
    "timestep = 0.01\n",
    "spacestep = 0.1\n",
    "domain_size = 5 \n",
    "def indicator(x): return np.array([int(i>=-1 and i<=0) for i in x])\n",
    "def gaussian(x): return stats.norm.pdf(x, loc=0, scale=1)\n",
    "initial_data = indicator\n",
    "adv_solvers = [TP.upwind, TP.FV_upwind]\n",
    "\n",
    "\n",
    "###############################################################################\n",
    "fig, ax = plt.subplots(len(adv_solvers), 1, figsize=(10,10))\n",
    "#fig.suptitle('Advection Equation in 1D', fontsize=16)\n",
    "cmap = plt.get_cmap('plasma')\n",
    "if len(adv_solvers)==1:\n",
    "    ax = [ax]\n",
    "for idx, solver in enumerate(adv_solvers):\n",
    "    adv_x, adv_sol = TP.solve_adv_eqn(solver=solver, a=wavespeed,\n",
    "                                      dt=timestep, dx=spacestep,\n",
    "                                      T_end=T_final, L=domain_size,\n",
    "                                      initial_dist=initial_data)\n",
    "    homplt.static_line(adv_x, adv_sol, solver, ax[idx])\n",
    "    \n",
    "plt.tight_layout(rect=[0, 0.03, 1, 0.95])\n",
    "plt.show()\n",
    "\n",
    "if save:\n",
    "    plt.savefig(savepath+'adv'+initial_data.__name__+'.eps', format='eps', dpi=1000)"
   ]
  },
  {
   "cell_type": "markdown",
   "metadata": {},
   "source": [
    "### Particle System with Langevin Dynamics\n"
   ]
  },
  {
   "cell_type": "markdown",
   "metadata": {},
   "source": [
    "Outputs an animation of histogram of particles at each timestep. Along with the mean velocity and variance of all particles at each timestep."
   ]
  },
  {
   "cell_type": "code",
   "execution_count": null,
   "metadata": {},
   "outputs": [],
   "source": [
    "%matplotlib qt\n",
    "particle_count = 1000\n",
    "diffusion = 1\n",
    "initial_data = uniform(low=2, high=4, size=particle_count)\n",
    "timestep = 0.01\n",
    "T_final = 5\n",
    "\n",
    "animate = True\n",
    "#If animation is too slow, increase framestep.\n",
    "framestep = 1\n",
    "###############################################################################\n",
    "t, x, [m1, var] = TP.run_OU_process(particles=particle_count,\n",
    "                   D=diffusion,\n",
    "                   initial_dist=initial_data,\n",
    "                   dt=timestep,\n",
    "                   T_end=T_final)\n",
    "ani = homplt.anim_hist_moments(t, x, m1, var, mu=0,\n",
    "                               D=diffusion, fs=framestep, animate=animate)\n",
    "plt.show()"
   ]
  },
  {
   "cell_type": "markdown",
   "metadata": {},
   "source": [
    "Plot histogram of positions and 5 sample paths"
   ]
  },
  {
   "cell_type": "code",
   "execution_count": null,
   "metadata": {},
   "outputs": [],
   "source": [
    "%matplotlib inline\n",
    "T_final = 100\n",
    "\n",
    "###############################################################################\n",
    "t, x, [m1, var] = TP.run_OU_process(particles=particle_count,\n",
    "                   D=diffusion,\n",
    "                   initial_dist=initial_data,\n",
    "                   dt=timestep,\n",
    "                   T_end=T_final)\n",
    "\n",
    "fig, ax = plt.subplots(1,2, figsize=(16,8))\n",
    "n_x, bins_x, patches_x = ax[0].hist(x[-750:].flatten(),\n",
    "                                    bins=np.arange(x.min(), x.max(), 0.15),\n",
    "                                    density=True, label='Position')\n",
    "\n",
    "mu = 0\n",
    "D = 1\n",
    "sigma = np.sqrt(D)\n",
    "_x = np.arange(mu - 5*sigma, mu + 5*sigma, 0.01)\n",
    "stat_dist = stats.norm.pdf(_x, mu, sigma)\n",
    "\n",
    "ax[0].plot(_x, stat_dist, 'r--')\n",
    "ax[0].set_xlabel('Position', fontsize=18)\n",
    "ax[0].set_ylabel('Density', fontsize=18)\n",
    "for _ in range(3):\n",
    "    ax[1].plot(t[:500], x[:500,_], label='Particle {}'.format(_+1))\n",
    "ax[1].set_xlabel('Time', fontsize=18)\n",
    "ax[1].set_ylabel('Position', fontsize=18)\n",
    "fig.show()\n",
    "if save:\n",
    "    fig.savefig(savepath+'OUparticletraj.eps', format='eps', dpi=1000)\n"
   ]
  },
  {
   "cell_type": "markdown",
   "metadata": {},
   "source": [
    "# Space Homogeneous System\n",
    "\n",
    "## Particle Model Simulation\n",
    "\n",
    "OU process is same as space homogeneous with no interaction. Combine Interaction, histograms \n"
   ]
  },
  {
   "cell_type": "code",
   "execution_count": null,
   "metadata": {
    "scrolled": true
   },
   "outputs": [],
   "source": [
    "%matplotlib qt\n",
    "particle_count = 1000\n",
    "diffusion = 1\n",
    "initial_data = uniform(low=-2, high=1, size=particle_count)\n",
    "timestep = 0.01\n",
    "T_final = 50\n",
    "herding_function = herd.smooth_G\n",
    "\n",
    "framestep = 5\n",
    "animate = True\n",
    "\n",
    "t, v, [M1, var] = hom.run_particle_model(particles=particle_count,\n",
    "                   D=diffusion,\n",
    "                   initial_dist=initial_data,\n",
    "                   dt=timestep,\n",
    "                   T_end=T_final,\n",
    "                   G=herding_function)\n",
    "\n",
    "n, bins, patches = plt.hist(v[-500:].flatten(), bins=np.arange(v.min(), v.max(), 0.15),\n",
    "                           density=True, label='Velocity')\n",
    "stat_mu = np.sign(v[0,].mean())\n",
    "stat_sigma = np.sqrt(diffusion)\n",
    "_v = np.arange(stat_mu - 5*stat_sigma, stat_mu + 5*stat_sigma, 0.01)\n",
    "stat_dist = stats.norm.pdf(_v, stat_mu, stat_sigma)\n",
    "\n",
    "plt.plot(_v, stat_dist, '-.',label=r'Stationary D$^{\\mathrm{n}}$')\n",
    "plt.show()\n",
    "\n",
    "\n",
    "ani = homplt.anim_hist_moments(t, v, M1, var, mu=stat_mu,\n",
    "                               D=diffusion, fs=framestep, animate=animate)\n",
    "plt.show()"
   ]
  },
  {
   "cell_type": "markdown",
   "metadata": {},
   "source": [
    "## Kinetic Model"
   ]
  },
  {
   "cell_type": "markdown",
   "metadata": {},
   "source": [
    "- Long time L1 error, asymmetry\n",
    "- FV method\n",
    "- agreement in histogram, visual with FD\n",
    "- symmetric error\n",
    "- Mesh refinement errors"
   ]
  },
  {
   "cell_type": "markdown",
   "metadata": {},
   "source": [
    "Use the function below to see the convergence in moments for the finite difference method compared to the particle system, as well as an animation (if `animation = True`) of the solution evolving in time."
   ]
  },
  {
   "cell_type": "code",
   "execution_count": 22,
   "metadata": {
    "scrolled": true
   },
   "outputs": [
    {
     "name": "stdout",
     "output_type": "stream",
     "text": [
      "Finite difference mass loss was 0.00%\n"
     ]
    }
   ],
   "source": [
    "%matplotlib qt\n",
    "diffusion = 1\n",
    "particle_count = 1000\n",
    "timestep = 0.01\n",
    "T_final = 10\n",
    "domain_size = 8\n",
    "spacestep = 0.1\n",
    "\n",
    "herding_function = herd.smooth_G\n",
    "#Set initial data for Gaussian\n",
    "mu_init = -2\n",
    "sd_init = np.sqrt(2)\n",
    "\n",
    "#Set max/min for indicator\n",
    "max_init = 0\n",
    "min_init = -1\n",
    "\n",
    "gaussian = {'particle': normal(loc=mu_init, scale=sd_init ,size=particle_count),\n",
    "            'pde': lambda x: stats.norm.pdf(x, loc=mu_init, scale=sd_init)}\n",
    "\n",
    "indicator = {'particle': uniform(low=min_init, high=max_init, size=particle_count),\n",
    "            'pde': lambda x: np.array([int(i>=min_init and i<=max_init) for i in x])} \n",
    "\n",
    "\n",
    "initial_data = gaussian #Choose indicator or Gaussian\n",
    "\n",
    "framestep = 5\n",
    "animate = True\n",
    "\n",
    "###############################################################################\n",
    "v, F, moments = hom.FD_solve_hom_PDE(D=diffusion,\n",
    "                                      initial_dist=initial_data['pde'],\n",
    "                                      dt=timestep, T_end=T_final, L=domain_size,\n",
    "                                      dv=spacestep, G=herding_function)\n",
    "\n",
    "t, traj, [M1, var] = hom.run_particle_model(particles=particle_count,\n",
    "                   D=diffusion,\n",
    "                   initial_dist=initial_data['particle'],\n",
    "                   dt=timestep,\n",
    "                   T_end=T_final,\n",
    "                   G=herding_function)\n",
    "if animate:\n",
    "    ani = homplt.animate_PDE_hist(t, v, traj , F)\n",
    "    plt.show()\n",
    "\n",
    "fig,ax=plt.subplots()\n",
    "ax.plot(t[1:], M1, label='Particle Mean')\n",
    "ax.plot(t[1:], var, label='Particle Variance')\n",
    "stat_mu = np.sign(traj[0,].mean())\n",
    "ax.plot([0, T_final], [stat_mu, stat_mu], 'b-.')\n",
    "ax.plot([0, T_final], [diffusion, diffusion], 'r:')\n",
    "ax.plot(t[1:], moments[1], label='PDE Mean')\n",
    "ax.plot(t[1:], moments[2]-moments[1]**2, label=' PDE Variance')\n",
    "\n",
    "ax.set_xlabel('Time')\n",
    "ax.legend(loc='best')\n",
    "fig.show()"
   ]
  },
  {
   "cell_type": "markdown",
   "metadata": {},
   "source": [
    "Rather than the eyeball metric, we can quantify the error in the stationary distribution for different discretisations below. The first cell gives the L^1 error, the second shows how time step and space step affect accuracy"
   ]
  },
  {
   "cell_type": "code",
   "execution_count": 23,
   "metadata": {},
   "outputs": [
    {
     "name": "stdout",
     "output_type": "stream",
     "text": [
      "Finite difference mass loss was 0.00%\n",
      "Finite volume mass loss was -0.00%\n"
     ]
    },
    {
     "data": {
      "image/png": "[encoded data removed]",
      "text/plain": [
       "<Figure size 432x288 with 1 Axes>"
      ]
     },
     "metadata": {
      "needs_background": "light"
     },
     "output_type": "display_data"
    }
   ],
   "source": [
    "%matplotlib inline\n",
    "diffusion = 1\n",
    "timestep = 0.001\n",
    "T_final = 10\n",
    "domain_size = 6\n",
    "spacestep = 0.1\n",
    "particle_count = 100\n",
    "herding_function = herd.smooth_G\n",
    "#Set initial data for Gaussian\n",
    "mu_init = -1.5\n",
    "sd_init = 0.5\n",
    "\n",
    "#Set max/min for indicator\n",
    "max_init = 0\n",
    "min_init = -1\n",
    "\n",
    "gaussian = {'particle': normal(loc=mu_init, scale=sd_init ,size=particle_count),\n",
    "            'pde': lambda x: stats.norm.pdf(x, loc=mu_init, scale=sd_init)}\n",
    "\n",
    "indicator = {'particle': uniform(low=min_init, high=max_init, size=particle_count),\n",
    "            'pde': lambda x: np.array([int(i>=min_init and i<=max_init) for i in x])} \n",
    "\n",
    "\n",
    "initial_data = gaussian #Choose indicator or Gaussian\n",
    "\n",
    "\n",
    "v, F_diff, moments_diff = hom.FD_solve_hom_PDE(D=diffusion,\n",
    "                                      initial_dist=initial_data['pde'],\n",
    "                                      dt=timestep, T_end=T_final, L=domain_size,\n",
    "                                      dv=spacestep, G=herding_function)\n",
    "\n",
    "v, F_vol, moments_vol = hom.FV_solve_hom_PDE(D=diffusion,\n",
    "                                      initial_dist=initial_data['pde'],\n",
    "                                      dt=timestep, T_end=T_final, L=domain_size,\n",
    "                                      dv=spacestep, G=herding_function)\n",
    "\n",
    "stat_mu = np.sign(F_diff[0,].mean())\n",
    "stat_dist = stats.norm.pdf(v, stat_mu, np.sqrt(diffusion))\n",
    "plt.plot(v, stat_dist - F_vol[-1,], label='Fin Vol Solver Error')\n",
    "plt.plot(v, stat_dist - F_diff[-1,], label='Static Solver Error')\n",
    "\n",
    "plt.legend()\n",
    "plt.show()"
   ]
  },
  {
   "cell_type": "code",
   "execution_count": null,
   "metadata": {
    "scrolled": true
   },
   "outputs": [
    {
     "name": "stdout",
     "output_type": "stream",
     "text": [
      "[0.001  0.0001]\n",
      "Finite difference mass loss was 0.00%\n"
     ]
    }
   ],
   "source": [
    "diffusion = 1\n",
    "timestep = 0.001\n",
    "T_final = 10\n",
    "domain_size = 6\n",
    "spacestep = 0.1\n",
    "particle_count = 100\n",
    "herding_function = herd.smooth_G\n",
    "#Set initial data for Gaussian\n",
    "mu_init = -1.5\n",
    "sd_init = 0.5\n",
    "\n",
    "#Set max/min for indicator\n",
    "max_init = 0\n",
    "min_init = -1\n",
    "\n",
    "gaussian = {'particle': normal(loc=mu_init, scale=sd_init ,size=particle_count),\n",
    "            'pde': lambda x: stats.norm.pdf(x, loc=mu_init, scale=sd_init)}\n",
    "\n",
    "indicator = {'particle': uniform(low=min_init, high=max_init, size=particle_count),\n",
    "            'pde': lambda x: np.array([int(i>=min_init and i<=max_init) for i in x])} \n",
    "\n",
    "\n",
    "initial_data = gaussian #Choose indicator or Gaussian\n",
    "\n",
    "\n",
    "timesteps = np.logspace(-3,-4,2)\n",
    "print(timesteps)\n",
    "error = np.zeros((2,len(timesteps)))\n",
    "for idx, t in enumerate(timesteps):\n",
    "    v, F_diff, moments_diff = hom.FD_solve_hom_PDE(D=diffusion,\n",
    "                                      initial_dist=initial_data['pde'],\n",
    "                                      dt=t, T_end=T_final, L=domain_size,\n",
    "                                      dv=spacestep, G=herding_function)\n",
    "\n",
    "    v, F_vol, moments_vol = hom.FV_solve_hom_PDE(D=diffusion,\n",
    "                                      initial_dist=initial_data['pde'],\n",
    "                                      dt=t, T_end=T_final, L=domain_size,\n",
    "                                      dv=spacestep, G=herding_function)\n",
    "    error[:,idx] = np.array([(spacestep/(2*domain_size))*abs(stat_dist - F_vol[-1,]).sum(),\n",
    "                    (spacestep/(2*domain_size))*abs(stat_dist - F_diff[-1,]).sum()])\n",
    "    print(error)\n",
    "\n",
    "plt.plot(timesteps, error[0,])\n",
    "plt.plot(timesteps, error[1,])\n",
    "plt.show()"
   ]
  },
  {
   "cell_type": "markdown",
   "metadata": {},
   "source": [
    "If the system is ran for a long time with a low number of particles, we see switches in stability and convergence to a distribution with mean zero."
   ]
  },
  {
   "cell_type": "code",
   "execution_count": 21,
   "metadata": {
    "scrolled": true
   },
   "outputs": [
    {
     "name": "stderr",
     "output_type": "stream",
     "text": [
      "C:\\Users\\s1415551\\AppData\\Local\\Continuum\\anaconda3\\lib\\site-packages\\numpy\\core\\fromnumeric.py:3118: RuntimeWarning: Mean of empty slice.\n",
      "  out=out, **kwargs)\n",
      "C:\\Users\\s1415551\\AppData\\Local\\Continuum\\anaconda3\\lib\\site-packages\\numpy\\core\\_methods.py:85: RuntimeWarning: invalid value encountered in double_scalars\n",
      "  ret = ret.dtype.type(ret / rcount)\n",
      "C:\\Users\\s1415551\\AppData\\Local\\Continuum\\anaconda3\\lib\\site-packages\\numpy\\core\\fromnumeric.py:3367: RuntimeWarning: Degrees of freedom <= 0 for slice\n",
      "  **kwargs)\n",
      "C:\\Users\\s1415551\\AppData\\Local\\Continuum\\anaconda3\\lib\\site-packages\\numpy\\core\\_methods.py:110: RuntimeWarning: invalid value encountered in true_divide\n",
      "  arrmean, rcount, out=arrmean, casting='unsafe', subok=False)\n",
      "C:\\Users\\s1415551\\AppData\\Local\\Continuum\\anaconda3\\lib\\site-packages\\numpy\\core\\_methods.py:132: RuntimeWarning: invalid value encountered in double_scalars\n",
      "  ret = ret.dtype.type(ret / rcount)\n"
     ]
    },
    {
     "ename": "KeyboardInterrupt",
     "evalue": "",
     "output_type": "error",
     "traceback": [
      "\u001b[1;31m---------------------------------------------------------------------------\u001b[0m",
      "\u001b[1;31mKeyboardInterrupt\u001b[0m                         Traceback (most recent call last)",
      "\u001b[1;32m<ipython-input-21-59e9982b72cc>\u001b[0m in \u001b[0;36m<module>\u001b[1;34m\u001b[0m\n\u001b[0;32m     22\u001b[0m \u001b[1;33m\u001b[0m\u001b[0m\n\u001b[0;32m     23\u001b[0m ani = homplt.anim_hist_moments(t, v, M1, var, mu=stat_mu, D=diffusion,\n\u001b[1;32m---> 24\u001b[1;33m                                fs=framestep, animate=animate, timeavg=True)\n\u001b[0m\u001b[0;32m     25\u001b[0m \u001b[0mplt\u001b[0m\u001b[1;33m.\u001b[0m\u001b[0mshow\u001b[0m\u001b[1;33m(\u001b[0m\u001b[1;33m)\u001b[0m\u001b[1;33m\u001b[0m\u001b[1;33m\u001b[0m\u001b[0m\n",
      "\u001b[1;32m~\\Documents\\GitHub\\Whales\\src\\plotting\\hom_plot.py\u001b[0m in \u001b[0;36manim_hist_moments\u001b[1;34m(t, x, m1, var, mu, D, fs, animate, timeavg)\u001b[0m\n\u001b[0;32m     39\u001b[0m     \u001b[1;32mfor\u001b[0m \u001b[0mi\u001b[0m \u001b[1;32min\u001b[0m \u001b[0mrange\u001b[0m\u001b[1;33m(\u001b[0m\u001b[0mlen\u001b[0m\u001b[1;33m(\u001b[0m\u001b[0mx\u001b[0m\u001b[1;33m)\u001b[0m\u001b[1;33m)\u001b[0m\u001b[1;33m:\u001b[0m\u001b[1;33m\u001b[0m\u001b[1;33m\u001b[0m\u001b[0m\n\u001b[0;32m     40\u001b[0m         \u001b[1;32mif\u001b[0m \u001b[0mtimeavg\u001b[0m\u001b[1;33m:\u001b[0m\u001b[1;33m\u001b[0m\u001b[1;33m\u001b[0m\u001b[0m\n\u001b[1;32m---> 41\u001b[1;33m             \u001b[0mmean\u001b[0m\u001b[1;33m[\u001b[0m\u001b[0mi\u001b[0m\u001b[1;33m]\u001b[0m \u001b[1;33m=\u001b[0m \u001b[0mnp\u001b[0m\u001b[1;33m.\u001b[0m\u001b[0mmean\u001b[0m\u001b[1;33m(\u001b[0m\u001b[0mx\u001b[0m\u001b[1;33m[\u001b[0m\u001b[1;33m:\u001b[0m\u001b[0mi\u001b[0m\u001b[1;33m]\u001b[0m\u001b[1;33m.\u001b[0m\u001b[0mflatten\u001b[0m\u001b[1;33m(\u001b[0m\u001b[1;33m)\u001b[0m\u001b[1;33m)\u001b[0m\u001b[1;33m\u001b[0m\u001b[1;33m\u001b[0m\u001b[0m\n\u001b[0m\u001b[0;32m     42\u001b[0m             \u001b[0mvar\u001b[0m\u001b[1;33m[\u001b[0m\u001b[0mi\u001b[0m\u001b[1;33m]\u001b[0m \u001b[1;33m=\u001b[0m \u001b[0mnp\u001b[0m\u001b[1;33m.\u001b[0m\u001b[0mvar\u001b[0m\u001b[1;33m(\u001b[0m\u001b[0mx\u001b[0m\u001b[1;33m[\u001b[0m\u001b[1;33m:\u001b[0m\u001b[0mi\u001b[0m\u001b[1;33m]\u001b[0m\u001b[1;33m.\u001b[0m\u001b[0mflatten\u001b[0m\u001b[1;33m(\u001b[0m\u001b[1;33m)\u001b[0m\u001b[1;33m)\u001b[0m\u001b[1;33m\u001b[0m\u001b[1;33m\u001b[0m\u001b[0m\n\u001b[0;32m     43\u001b[0m         \u001b[1;32melse\u001b[0m\u001b[1;33m:\u001b[0m\u001b[1;33m\u001b[0m\u001b[1;33m\u001b[0m\u001b[0m\n",
      "\u001b[1;31mKeyboardInterrupt\u001b[0m: "
     ]
    }
   ],
   "source": [
    "%matplotlib qt\n",
    "particle_count = 6\n",
    "diffusion = 1\n",
    "initial_data = uniform(low=-2, high=1, size=particle_count)\n",
    "timestep = 0.01\n",
    "T_final = 500\n",
    "herding_function = herd.smooth_G\n",
    "\n",
    "framestep = 50\n",
    "animate = True\n",
    "\n",
    "t, v, [M1, var] = hom.run_particle_model(particles=particle_count,\n",
    "                   D=diffusion,\n",
    "                   initial_dist=initial_data,\n",
    "                   dt=timestep,\n",
    "                   T_end=T_final,\n",
    "                   G=herding_function)\n",
    "stat_mu = np.sign(v[0,].mean())\n",
    "stat_sigma = np.sqrt(diffusion)\n",
    "_v = np.arange(stat_mu - 5*stat_sigma, stat_mu + 5*stat_sigma, 0.01)\n",
    "stat_dist = stats.norm.pdf(_v, stat_mu, stat_sigma)\n",
    "\n",
    "ani = homplt.anim_hist_moments(t, v, M1, var, mu=stat_mu, D=diffusion,\n",
    "                               fs=framestep, animate=animate, timeavg=True)\n",
    "plt.show()"
   ]
  },
  {
   "cell_type": "markdown",
   "metadata": {},
   "source": [
    "## Space Het Particle Model\n"
   ]
  },
  {
   "cell_type": "code",
   "execution_count": null,
   "metadata": {},
   "outputs": [],
   "source": [
    "t, x, v = het.run_particle_model(particle_count=100, D=1,\n",
    "                          initial_dist_x=np.pi/2,\n",
    "                          initial_dist_v=uniform(low=0, high=1, size=100),\n",
    "                          dt=0.01, T_end=200, G=herd.step_G)\n",
    "\n",
    "g = sns.jointplot(x_1.flatten(), v_1.flatten(), kind=\"hex\", height=7, space=0)"
   ]
  }
 ],
 "metadata": {
  "kernelspec": {
   "display_name": "Python 3",
   "language": "python",
   "name": "python3"
  },
  "language_info": {
   "codemirror_mode": {
    "name": "ipython",
    "version": 3
   },
   "file_extension": ".py",
   "mimetype": "text/x-python",
   "name": "python",
   "nbconvert_exporter": "python",
   "pygments_lexer": "ipython3",
   "version": "3.7.3"
  }
 },
 "nbformat": 4,
 "nbformat_minor": 2
}
