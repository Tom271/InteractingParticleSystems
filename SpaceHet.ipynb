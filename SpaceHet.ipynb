{
 "cells": [
  {
   "cell_type": "markdown",
   "metadata": {},
   "source": [
    "# Numerical Solution of Space-Heterogeneous Model"
   ]
  },
  {
   "cell_type": "code",
   "execution_count": 6,
   "metadata": {
    "hide_input": false
   },
   "outputs": [],
   "source": [
    "import numpy as np\n",
    "from numpy.random import normal, uniform\n",
    "\n",
    "from pandas import DataFrame #For visualising arrays easily\n",
    "\n",
    "import pickle\n",
    "\n",
    "import scipy.stats as stats\n",
    "from scipy.integrate import simps\n",
    "\n",
    "import time\n",
    "\n",
    "import matplotlib.pyplot as plt\n",
    "import plotting_tools as easyplt\n",
    "import herding as herd"
   ]
  },
  {
   "cell_type": "code",
   "execution_count": 2,
   "metadata": {},
   "outputs": [],
   "source": [
    "def run_particle_model(particle_count=10, D=1, dt=0.01, T_end=1,\n",
    "                   initial_dist_x=uniform(size=10),\n",
    "                   initial_dist_v=uniform(size=10), G=herd.step_G):\n",
    "    \"\"\" Space-Inhomogeneous Particle model\n",
    "    \n",
    "    Calculates the solution of the space-inhomogeneous particle model using an \n",
    "    Euler-Maruyama scheme.\n",
    "    \n",
    "    Args:\n",
    "        particles: Number of particles to simulate, int.\n",
    "        D: Diffusion coefficient denoted sigma in equation, float.\n",
    "        initial_dist_x: Array containing initial positions of particles.\n",
    "        initial_dist_v: Array containing initial velocities of particles.\n",
    "        dt: Time step to be use in E-M scheme, float.\n",
    "        T_end: Time point at which to end simulation, float.\n",
    "        G: Interaction function - refer to herding.py.\n",
    "        \n",
    "    Returns:\n",
    "        t: array of times at which velocities were calculated (only used for\n",
    "           plotting).         \n",
    "        v: array containing velocities of each particle at every timestep.\n",
    "   \n",
    "    \"\"\"\n",
    "    steps = int(T_end/dt)\n",
    "    v = np.zeros((steps+1, particle_count), dtype=float)\n",
    "    x = np.zeros((steps+1, particle_count), dtype=float)\n",
    "\n",
    "    #Initial Condition\n",
    "    v[0, :] = initial_dist_v\n",
    "    x[0, :] = initial_dist_x\n",
    "    \n",
    "    for n in range(steps):\n",
    "        x_curr = x[n, :]\n",
    "        v_curr = v[n, :]\n",
    "        x[n+1, :] = (x_curr + v_curr*dt) % (2*np.pi) # Restrict to torus\n",
    "        v[n+1, :] = (v_curr - v_curr*dt + G(herd.phi_part(v[n, :]))*dt \n",
    "                     + np.sqrt(2*D*dt) * normal(size=particle_count))\n",
    "    t = np.arange(0, T_end+dt, dt)\n",
    "    return t, x, v"
   ]
  },
  {
   "cell_type": "code",
   "execution_count": 3,
   "metadata": {
    "scrolled": false
   },
   "outputs": [
    {
     "data": {
      "image/png": "[encoded data removed]",
      "text/plain": [
       "<Figure size 432x288 with 1 Axes>"
      ]
     },
     "metadata": {
      "needs_background": "light"
     },
     "output_type": "display_data"
    }
   ],
   "source": [
    "%matplotlib inline\n",
    "\n",
    "t_1, x_1, v_1 = run_particle_model(particle_count=3, D=1,\n",
    "                          initial_dist_x=np.pi/2,\n",
    "                          initial_dist_v=normal(size=3),\n",
    "                          dt=0.01, T_end=10, G=herd.step_G)\n",
    "\n",
    "# test_data = {\"Time\": t_1,\n",
    "#              \"Position\": x_1, \n",
    "#              \"Velocity\": v_1}\n",
    "# pickle.dump(test_data, open('Test_Data/test_data', \"wb\"))\n",
    "\n",
    "t_2, x_2, v_2 = run_particle_model(particle_count=100, D=1,\n",
    "                          initial_dist_x=np.pi/2,\n",
    "                          initial_dist_v=normal(size=100),\n",
    "                          dt=0.01, T_end=1, G=herd.smooth_G)\n",
    "plt.plot(t_1, v_1[:, 0])\n",
    "plt.plot(t_2, v_2[:, 0])\n",
    "plt.xlabel('Time (s)')\n",
    "plt.ylabel('Velocity')\n",
    "plt.show()"
   ]
  },
  {
   "cell_type": "code",
   "execution_count": 4,
   "metadata": {
    "scrolled": true
   },
   "outputs": [],
   "source": [
    "#Must be written twice, bug in Jupyter\n",
    "%matplotlib qt\n",
    "%matplotlib qt\n",
    "\n",
    "easyplt.plot_together(-1, t_1, x_1, v_1)"
   ]
  },
  {
   "cell_type": "code",
   "execution_count": 29,
   "metadata": {},
   "outputs": [],
   "source": [
    "%matplotlib qt\n",
    "ani1  = easyplt.anim_full(t_1, x_1, v_1)"
   ]
  },
  {
   "cell_type": "code",
   "execution_count": 5,
   "metadata": {},
   "outputs": [],
   "source": [
    "ani2 = easyplt.anim_full(t_2, x_2, v_2)"
   ]
  },
  {
   "cell_type": "code",
   "execution_count": 10,
   "metadata": {},
   "outputs": [],
   "source": [
    "#Saving output as .mp4 (may take a while)\n",
    "writer = animation.FFMpegWriter(fps=20, extra_args=['-vcodec', 'libx264'])\n",
    "ani1.save('1particles.mp4', writer=writer)\n",
    "animation.FFMpegWriter(fps=20, extra_args=['-vcodec', 'libx264'])\n",
    "ani2.save('2particles.mp4', writer=writer)"
   ]
  },
  {
   "cell_type": "markdown",
   "metadata": {},
   "source": [
    "##### Old Code\n",
    "\n",
    "For plotting multiple histograms with matplotlib notebook backend as opposed to a separate window - harder to size. May be better for presentation if done in Jupyter?"
   ]
  },
  {
   "cell_type": "code",
   "execution_count": null,
   "metadata": {
    "hide_input": true
   },
   "outputs": [],
   "source": [
    "# fig.show()\n",
    "# fig.canvas.draw()\n",
    "\n",
    "# for i in range(1, len(t)):\n",
    "#     #Particles\n",
    "#     pos_vel = [x[i,idx] if vel >= 0 else None for  idx, vel in enumerate(v[i,:])]\n",
    "#     pos_vel = [x for x in pos_vel if x is not None]\n",
    "#     neg_vel = [x[i,idx] if vel <= 0 else None for  idx, vel in enumerate(v[i,:])]\n",
    "#     neg_vel = [x for x in neg_vel if x is not None]\n",
    "#     pos_points.set_data(np.sin(pos_vel), np.cos(pos_vel))\n",
    "#     neg_points.set_data(np.sin(neg_vel), np.cos(neg_vel))\n",
    "#     ####\n",
    "    \n",
    "#     n_v, _ = np.histogram(v[i, :],  bins = np.arange(v.min(), v.max(), 0.15), density = True)\n",
    "#     n_x, _ = np.histogram(x[i, :],  bins = np.arange(x.min(), x.max(), 0.15), density = True)\n",
    "    \n",
    "#     #Update vel data\n",
    "#     for rect_v, height_v in zip(patches_v, n_v):\n",
    "#           rect_v.set_height(height_v)\n",
    "#     #Update pos data\n",
    "#     for rect_x, height_x in zip(patches_x, n_x):\n",
    "#           rect_x.set_height(height_x)\n",
    "\n",
    "#     fig.suptitle('t = {:.2f}'.format(t[i]), fontsize = 25)\n",
    "#     time.sleep(0.05)\n",
    "#     fig.canvas.draw()\n",
    "    \n",
    "    \n",
    "\n",
    "# for i in range(1, len(t)):\n",
    "#     n, _ = np.histogram(traj[:,i],  bins = np.arange(traj.min(), traj.max(), 0.15), density = True)\n",
    "#     fig.suptitle('t = {:.2f}'.format(t[i]))\n",
    "#     for rect, heig in zip(patches, n):\n",
    "#          rect.set_height(heig)\n",
    "#     time.sleep(0.005)\n",
    "#     fig.canvas.draw()\n",
    "\n",
    " "
   ]
  },
  {
   "cell_type": "markdown",
   "metadata": {},
   "source": [
    "Plots only particle system without histograms"
   ]
  },
  {
   "cell_type": "code",
   "execution_count": null,
   "metadata": {
    "hide_input": true
   },
   "outputs": [],
   "source": [
    "########OLD ##############\n",
    "# %matplotlib notebook\n",
    "# %matplotlib notebook\n",
    "\n",
    "# fig, ax = plt.subplots(1,1, figsize=(8, 8))\n",
    "\n",
    "# an = np.linspace(0, 2 * np.pi, 100)\n",
    "# plt.plot(np.cos(an), np.sin(an),'--', alpha = 0.5)\n",
    "# ax.axis('equal')\n",
    "# #plt.ion() #Interactive mode on\n",
    "\n",
    "# t = np.arange(0, T_end+dt, dt)\n",
    "# ax.set_ylim(-1.1 ,1.1)\n",
    "# ax.set_xlim(-1.1 ,1.1)\n",
    "\n",
    "# #Horrible trick to plot different colours -- look for way to pass color argument in one go\n",
    "# pos_vel = [x[0,idx] if vel >= 0 else None for  idx, vel in enumerate(v[0,:])]\n",
    "# pos_vel = [x for x in pos_vel if x is not None]\n",
    "# neg_vel = [x[0,idx] if vel <= 0 else None for  idx, vel in enumerate(v[0,:])]\n",
    "# neg_vel = [x for x in neg_vel if x is not None]\n",
    "# #x and y wrong way round so that +ve vel is clockwise\n",
    "# pos_points, = ax.plot(np.sin(pos_vel), np.cos(pos_vel), linestyle = 'None', marker = 'o', c='g')\n",
    "# neg_points, = ax.plot(np.sin(neg_vel), np.cos(neg_vel), linestyle = 'None', marker = 'o', c='r')\n",
    "\n",
    "# fig.suptitle('t = {}'.format(t[0]), fontsize = 25)\n",
    "\n",
    "# ax.tick_params(axis='both', which='major', labelsize=20)\n",
    "# ax.set_xlabel('x', fontsize = 25)\n",
    "# ax.set_ylabel('y', fontsize = 25)\n",
    "\n",
    "# fig.show()\n",
    "# fig.canvas.draw()\n",
    "\n",
    "# for i in range(1, len(t)):\n",
    "#     pos_vel = [x[i,idx] if vel >= 0 else None for  idx, vel in enumerate(v[i,:])]\n",
    "#     pos_vel = [x for x in pos_vel if x is not None]\n",
    "#     neg_vel = [x[i,idx] if vel <= 0 else None for  idx, vel in enumerate(v[i,:])]\n",
    "#     neg_vel = [x for x in neg_vel if x is not None]\n",
    "#     pos_points.set_data(np.sin(pos_vel), np.cos(pos_vel))\n",
    "#     neg_points.set_data(np.sin(neg_vel), np.cos(neg_vel))\n",
    "#     #points.set_color(col)\n",
    "#     fig.suptitle('t = {:.2f}'.format(t[i]), fontsize = 25)\n",
    "#     time.sleep(0.01)\n",
    "#     fig.canvas.draw()\n",
    "####################################################"
   ]
  }
 ],
 "metadata": {
  "kernelspec": {
   "display_name": "Python 3",
   "language": "python",
   "name": "python3"
  },
  "language_info": {
   "codemirror_mode": {
    "name": "ipython",
    "version": 3
   },
   "file_extension": ".py",
   "mimetype": "text/x-python",
   "name": "python",
   "nbconvert_exporter": "python",
   "pygments_lexer": "ipython3",
   "version": "3.7.3"
  },
  "toc": {
   "base_numbering": 1,
   "nav_menu": {},
   "number_sections": true,
   "sideBar": true,
   "skip_h1_title": true,
   "title_cell": "Table of Contents",
   "title_sidebar": "Contents",
   "toc_cell": false,
   "toc_position": {},
   "toc_section_display": true,
   "toc_window_display": false
  }
 },
 "nbformat": 4,
 "nbformat_minor": 2
}
