{
 "cells": [
  {
   "cell_type": "markdown",
   "metadata": {
    "toc": true
   },
   "source": [
    "<h1>Table of Contents<span class=\"tocSkip\"></span></h1>\n",
    "<div class=\"toc\"><ul class=\"toc-item\"><li><span><a href=\"#Space-Homogeneous-Particle-Model\" data-toc-modified-id=\"Space-Homogeneous-Particle-Model-1\"><span class=\"toc-item-num\">1&nbsp;&nbsp;</span>Space-Homogeneous Particle Model</a></span></li><li><span><a href=\"#Kinetic-Model\" data-toc-modified-id=\"Kinetic-Model-2\"><span class=\"toc-item-num\">2&nbsp;&nbsp;</span>Kinetic Model</a></span></li><li><span><a href=\"#Running-and-Plotting\" data-toc-modified-id=\"Running-and-Plotting-3\"><span class=\"toc-item-num\">3&nbsp;&nbsp;</span>Running and Plotting</a></span><ul class=\"toc-item\"><li><span><a href=\"#Including-the-Kinetic-Model\" data-toc-modified-id=\"Including-the-Kinetic-Model-3.1\"><span class=\"toc-item-num\">3.1&nbsp;&nbsp;</span>Including the Kinetic Model</a></span></li></ul></li><li><span><a href=\"#Invariant-Distribution-of-Particle-System\" data-toc-modified-id=\"Invariant-Distribution-of-Particle-System-4\"><span class=\"toc-item-num\">4&nbsp;&nbsp;</span>Invariant Distribution of Particle System</a></span><ul class=\"toc-item\"><li><span><a href=\"#Invariant-Measure-has-Mean-Zero\" data-toc-modified-id=\"Invariant-Measure-has-Mean-Zero-4.1\"><span class=\"toc-item-num\">4.1&nbsp;&nbsp;</span>Invariant Measure has Mean Zero</a></span></li></ul></li><li><span><a href=\"#Change-of-Variables\" data-toc-modified-id=\"Change-of-Variables-5\"><span class=\"toc-item-num\">5&nbsp;&nbsp;</span>Change of Variables</a></span></li></ul></div>"
   ]
  },
  {
   "cell_type": "markdown",
   "metadata": {
    "hideCode": false,
    "hidePrompt": false
   },
   "source": [
    "# Numerical Solution of Space-Homogeneous Model\n",
    "\n",
    "<small> import modules hidden below </small>"
   ]
  },
  {
   "cell_type": "code",
   "execution_count": 2,
   "metadata": {
    "hideCode": false,
    "hidePrompt": false,
    "hide_input": false
   },
   "outputs": [],
   "source": [
    "import numpy as np\n",
    "from numpy.random import normal, uniform\n",
    "\n",
    "import scipy.stats as stats\n",
    "from scipy.integrate import simps, solve_ivp\n",
    "\n",
    "from pandas import DataFrame #For visualising arrays easily\n",
    "import time\n",
    "import warnings\n",
    "\n",
    "import matplotlib.pyplot as plt\n",
    "import matplotlib.animation as animation\n",
    "import seaborn as sns\n",
    "sns.set()\n",
    "sns.color_palette('colorblind')\n",
    "\n",
    "import plotting_tools as easyplt\n",
    "import herding as herd\n"
   ]
  },
  {
   "cell_type": "markdown",
   "metadata": {
    "hideCode": false,
    "hidePrompt": false
   },
   "source": [
    "## Space-Homogeneous Particle Model "
   ]
  },
  {
   "cell_type": "markdown",
   "metadata": {
    "hideCode": false,
    "hidePrompt": false
   },
   "source": [
    "In this section the space-homogeneous particle model is simulated. The model is\n",
    "$\\newcommand{\\dif}{\\mathrm{d}}$\n",
    "\n",
    "\\begin{align*}\n",
    "  \\dif V^{i,N}_t &= -V^{i,N}_t \\dif t + G\\left(\\frac{1}{N}\\sum_{j=1}^N V^{j,N}_t\\right)\\dif t + \\sqrt{2\\sigma} \\dif W_t^i,\n",
    "\\end{align*}\n"
   ]
  },
  {
   "cell_type": "markdown",
   "metadata": {
    "hideCode": false,
    "hidePrompt": false
   },
   "source": [
    "The particle model is first simulated directly, calculating the interaction at every step. Dist cretise each SDE using the Euler-Maruyama scheme. Interaction functions ($G, \\phi$) are defined in the separate `herding.py` file."
   ]
  },
  {
   "cell_type": "code",
   "execution_count": 3,
   "metadata": {
    "hideCode": false,
    "hidePrompt": false
   },
   "outputs": [],
   "source": [
    "def run_particle_model(particles=100,\n",
    "                   D=1,\n",
    "                   initial_dist=uniform(size=100),\n",
    "                   dt=0.01,\n",
    "                   T_end=1,\n",
    "                   G=herd.step_G) -> str:\n",
    "    \"\"\" Space-Homogeneous Particle model\n",
    "    \n",
    "    Calculates the solution of the space-homogeneous particle model using an \n",
    "    Euler-Maruyama scheme.\n",
    "    \n",
    "    Args:\n",
    "        particles: Number of particles to simulate, int.\n",
    "        D: Diffusion coefficient denoted sigma in equation, float.\n",
    "        initial_dist: Array containing initial velocities of particles.\n",
    "        dt: Time step to be use in E-M scheme, float.\n",
    "        T_end: Time point at which to end simulation, float.\n",
    "        G: Interaction function - refer to herding.py.\n",
    "        \n",
    "    Returns:\n",
    "        t: array of times at which velocities were calculated (only used for\n",
    "           plotting).\n",
    "        v: array containing velocities of each particle at every timestep.\n",
    "    \n",
    "    \"\"\"\n",
    "    steps = int(T_end/dt)\n",
    "    v = np.zeros((steps+1, particle_count), dtype=float)\n",
    "    #TODO: take density function as argument for initial data using inverse transform\n",
    "    v[0, :] = initial_dist\n",
    "    t = np.arange(0, T_end + dt, dt)\n",
    "    \n",
    "    for n in range(steps):\n",
    "        v_curr = v[n, :]\n",
    "        v[n+1, :] = (v_curr - v_curr*dt + G(herd.phi_part(v_curr))*dt \n",
    "                   + np.sqrt(2*D*dt) * normal(size=particles))\n",
    "\n",
    "    return t, v\n"
   ]
  },
  {
   "cell_type": "markdown",
   "metadata": {
    "hideCode": false,
    "hidePrompt": false
   },
   "source": [
    "## Kinetic Model\n",
    "The corresponding kinetic equation for the above particle system is\n",
    "\n",
    "$$ \\partial_t f_t(v) = - G(\\langle w\\rangle_{f_t})\\partial_vf_t + \\partial_v(vf_t) + \\sigma\\partial_{vv} f_t(v).$$\n",
    "\n",
    "\n",
    "This can be solve numerically term by term. The time derivative will be approximated using a forward time FD scheme. The interaction term and the damping term will be approximated using an upwind scheme (either forward or backward depending on sign of advection term) while the diffusion will be approximated using a Crank-Nicholson scheme. \n"
   ]
  },
  {
   "cell_type": "code",
   "execution_count": 4,
   "metadata": {
    "hideCode": false,
    "hidePrompt": false
   },
   "outputs": [],
   "source": [
    "def run_pde_model(D=1,\n",
    "              initial_dist=(lambda x: np.array([int(i>=0 and i<=1) for i in x])),\n",
    "              dt=0.01, T_end=1, L=5, dv=0.1, G=herd.step_G):\n",
    "    \"\"\" Solves the kinetic model using standard FD schemes\n",
    "    \n",
    "    Uses standard finite-difference techniques to approximate the solution on\n",
    "    [0,T_end] given an initial condition and prints mass loss.\n",
    "    \n",
    "    Args:\n",
    "        D: Diffusion coefficient denoted sigma in equation, float.\n",
    "        initial_dist: function describing initial density. \n",
    "        dt: Time step to be used, float.\n",
    "        dv: Velocity step.\n",
    "        T_end: Time point at which to end simulation, float.\n",
    "        L: Velocity domain of solution. Choose to be large enough so that |v|\n",
    "            never exceeds L.\n",
    "        G: Interaction function - refer to herding.py.\n",
    "    Returns:\n",
    "        v: Velocity mesh on which solution was calculated, array.\n",
    "        F: Approximate solution. Array is (time, space).\n",
    "    \n",
    "    Will warn if the initial density does not approximately integrate to 1.\n",
    "    \"\"\"\n",
    "     \n",
    "    \n",
    "    \n",
    "    v = np.arange(-L, L+dv, dv)\n",
    "    t = np.arange(0, T_end+dt, dt)\n",
    "    \n",
    "    J = len(v)\n",
    "    N = len(t)\n",
    "    \n",
    "    F = np.zeros((N, J), dtype=float) #array with rows in time, columns in space\n",
    "    \n",
    "    F_0 = initial_dist(v) #Initial Condition\n",
    "    if not np.isclose(simps(F_0, dx=dv), 1, rtol=1e-05):\n",
    "        warnings.warn('Normalising initial data...')\n",
    "        F_0 = F_0/simps(F_0, dx=dv)\n",
    "    F[0, :] = F_0\n",
    "    F[0, :] = F_0\n",
    "    \n",
    "    \n",
    "    F[:,0] = 0 #BCs \n",
    "    F[:,-1] = 0\n",
    "    mu = 0.5 * D * dt/(dv**2)\n",
    "    #TODO: Write Thomas Algorithm as a function.\n",
    "    #Thomas Algorithm Coefficients\n",
    "    a = mu\n",
    "    b = 1 + 2*mu \n",
    "    c = mu\n",
    "        \n",
    "    d = np.zeros(J)\n",
    "    e = np.zeros(J)\n",
    "    f = np.zeros(J)\n",
    "    \n",
    "    # Build arrays of new coefficients\n",
    "    for n in range(1, N):\n",
    "        for j in range(1, J-1):\n",
    "#TODO: check signs here - should increase accuracy\n",
    "#             if np.sign(v[j]) <= 0: #Use backward upwind\n",
    "#                 damp = (dt/dv) * (v[j] * F[n-1, j] - v[j-1] * F[n-1, j-1])\n",
    "#             else: #Forward Upwind\n",
    "#                 damp = (dt/dv) * (v[j+1] * F[n-1, j+1] - v[j] * F[n-1, j])\n",
    "#             #Here they are the other way round as it is negative interaction in eq.\n",
    "#             if np.sign(G(phi_pde(F[n-1,], v))) >= 0: #Forward upwind\n",
    "#                 inter = G(phi_pde(F[n-1,], v))*(dt/dv) * (F[n-1, j+1] - F[n-1, j])\n",
    "#             else: #Backward upwind\n",
    "#                 inter = G(phi_pde(F[n-1,], v))*(dt/dv) * (F[n-1, j] - F[n-1, j-1])\n",
    "\n",
    "            damp = (dt/dv) * (v[j] * F[n-1, j] - v[j-1] * F[n-1, j-1])\n",
    "            inter = G(herd.phi_pde(F[n-1,], v))*(dt/dv) * (F[n-1, j] - F[n-1, j-1])\n",
    "            diff = mu * (F[n-1, j+1] - 2*F[n-1, j] + F[n-1, j-1])\n",
    "\n",
    "            d[j] = F[n-1, j] + damp + diff - inter\n",
    "            e[j] = c/(b - a*e[j-1])\n",
    "            f[j] = (d[j] + a*f[j-1]) / (b - a*e[j-1])\n",
    "            \n",
    "        for j in range(J-1, 0, -1):\n",
    "            F[n, j-1] = f[j-1] + e[j-1]*F[n, j]\n",
    "            \n",
    "    mass_loss =  (1 - sum(F[-1,:])/sum(F[0,:]))*100\n",
    "    print('Mass loss was {:.2f}%'.format(mass_loss))\n",
    "    return v, F\n"
   ]
  },
  {
   "cell_type": "code",
   "execution_count": 5,
   "metadata": {},
   "outputs": [
    {
     "name": "stdout",
     "output_type": "stream",
     "text": [
      "11\n"
     ]
    }
   ],
   "source": [
    "T_end = 10\n",
    "dt = 1\n",
    "t = np.arange(0, T_end+dt, dt)\n",
    "N = len(t)\n",
    "print(N)"
   ]
  },
  {
   "cell_type": "markdown",
   "metadata": {
    "hideCode": false,
    "hidePrompt": false
   },
   "source": [
    "## Running and Plotting"
   ]
  },
  {
   "cell_type": "markdown",
   "metadata": {
    "hideCode": false,
    "hidePrompt": false
   },
   "source": [
    "First we illustrate how the particle system converges to a velocity distribution with mean $\\pm 1$ using $G$ as \n",
    "\n",
    "$$G(u) = \\frac{u+\\text{sgn}(u)}{2}.$$\n",
    "\n",
    "Setting the number of particles high enough makes a switch out of a metastable state very rare."
   ]
  },
  {
   "cell_type": "code",
   "execution_count": 6,
   "metadata": {
    "hideCode": false,
    "hidePrompt": false
   },
   "outputs": [],
   "source": [
    "#Setting parameters\n",
    "diffusion = 1\n",
    "T_end = 10\n",
    "timestep = 0.01\n",
    "particle_count = 10**3\n",
    "indicator = uniform(low = 0, high = 1, size = particle_count)\n",
    "\n",
    "t_meta, traj_meta = run_particle_model(particles=particle_count, D=diffusion, \n",
    "                         initial_dist=indicator, dt=timestep,\n",
    "                         T_end=T_end, G=herd.step_G)"
   ]
  },
  {
   "cell_type": "markdown",
   "metadata": {
    "hideCode": false,
    "hidePrompt": false
   },
   "source": [
    "One chart shows the velocity trajectories of 3 particles over the time interval. Second chart gives shows a histogram of the __entire__ time  note that if `T_end` is too small or the initial data very far from stationarity, this will not be a good estimate of a metastable position. Here we see convergence to a Gaussian distribution with mean 1 and variance 1."
   ]
  },
  {
   "cell_type": "code",
   "execution_count": 7,
   "metadata": {
    "hideCode": false,
    "hidePrompt": false,
    "hide_input": false,
    "scrolled": true
   },
   "outputs": [
    {
     "data": {
      "image/png": "[encoded data removed]",
      "text/plain": [
       "<Figure size 1080x360 with 2 Axes>"
      ]
     },
     "metadata": {
      "needs_background": "light"
     },
     "output_type": "display_data"
    }
   ],
   "source": [
    "%matplotlib inline\n",
    "\n",
    "fig, ax = plt.subplots(1,2, figsize=(15,5))\n",
    "ax[0].plot(t_meta, traj_meta[:,0:3])\n",
    "ax[0].set_xlabel('Time')\n",
    "ax[0].set_ylabel('Velocity')\n",
    "\n",
    "\n",
    "n, bins, patches = ax[1].hist(traj_meta.flatten(),\n",
    "                              bins = np.arange(traj_meta.min(), traj_meta.max(), 0.15),\n",
    "                              density = True, label = 'Particle Model')\n",
    "\n",
    "ax[1].set_ylim(0,1.1)\n",
    "ax[1].set_xlim(traj_meta.min(), traj_meta.max())\n",
    "ax[1].set_xlabel('Velocity')\n",
    "ax[1].set_ylabel('Density')\n",
    "\n",
    "mu = np.sign(np.mean(traj_meta[0,:]))\n",
    "sigma = np.sqrt(diffusion)\n",
    "\n",
    "v = np.arange(mu - 5*sigma, mu + 5*sigma, 0.01)\n",
    "ax[1].plot(v, stats.norm.pdf(v, mu, sigma),\n",
    "           label=r'$\\mathcal{N}(%g,%g)$'% (mu,sigma))\n",
    "ax[1].legend()\n",
    "\n",
    "plt.show()"
   ]
  },
  {
   "cell_type": "markdown",
   "metadata": {
    "hideCode": false,
    "hidePrompt": false
   },
   "source": [
    "For an idea of how we reach this metastable position, we can animate the histogram. Note here that the histogram is calculated __at each timestep__ not across all time. The animations will appear as a separate window. This makes saving them easier, and allows the notebook to continue running other cells."
   ]
  },
  {
   "cell_type": "code",
   "execution_count": 21,
   "metadata": {
    "hideCode": false,
    "hidePrompt": false
   },
   "outputs": [],
   "source": [
    "%matplotlib qt\n",
    "\n",
    "fig, ax = plt.subplots(1,1)\n",
    "#plt.ion() #Interactive mode on\n",
    "\n",
    "\n",
    "n, bins, patches = ax.hist(traj_meta[-1,:],\n",
    "                           bins=np.arange(traj_meta.min(), traj_meta.max(), 0.15),\n",
    "                           density=True, label='Particle Model')\n",
    "\n",
    "ax.set_ylim(0,1.05)\n",
    "ax.set_xlim(traj_meta.min(), traj_meta.max())\n",
    "\n",
    "mu = np.sign(np.mean(traj_meta[0,:]))\n",
    "sigma = np.sqrt(diffusion)\n",
    "\n",
    "_v = np.arange(mu - 5*sigma, mu + 5*sigma, 0.01)\n",
    "ax.plot(_v, stats.norm.pdf(_v, mu, sigma), label=r'Stationary D$^{\\mathrm{n}}$')\n",
    "\n",
    "fig.suptitle('t = {}'.format(t_meta[0]))\n",
    "ax.legend()\n",
    "ax.set_xlabel('Velocity')\n",
    "ax.set_ylabel('Density')\n",
    " \n",
    "def animate(i):\n",
    "    n, _ = np.histogram(traj_meta[i,:],\n",
    "                        bins=np.arange(traj_meta.min(), traj_meta.max(), 0.15),\n",
    "                        density=True)  # update the data\n",
    "    for rect, heig in zip(patches, n):\n",
    "         rect.set_height(heig)\n",
    "    fig.suptitle('t = {:.2f}'.format(t_meta[i]))\n",
    "\n",
    "ani = animation.FuncAnimation(fig, animate, interval = 50,\n",
    "                              frames = int(T_end/timestep - 1))\n",
    "\n",
    "fig.show()"
   ]
  },
  {
   "cell_type": "markdown",
   "metadata": {
    "hideCode": false,
    "hidePrompt": false
   },
   "source": [
    "### Including the Kinetic Model\n",
    "The kinetic model is used in a very similar way to the particle model, other than `initial_dist` must be a __function__, rather than the array of velocities fed to the particle model. A plot containing the solution at the end time is shown. Again it can be seen that it converges to a Gaussian with mean $\\pm 1$ depending on the initial data. "
   ]
  },
  {
   "cell_type": "code",
   "execution_count": 83,
   "metadata": {
    "hideCode": false,
    "hidePrompt": false
   },
   "outputs": [
    {
     "name": "stdout",
     "output_type": "stream",
     "text": [
      "Mass loss was 0.00%\n"
     ]
    }
   ],
   "source": [
    "D = 2\n",
    "initial_dist = (lambda x: np.array([int(i>=0 and i<=1) for i in x]))\n",
    "timestep = 0.01\n",
    "T_end = 10\n",
    "L = 10\n",
    "dv = 0.1\n",
    "\n",
    "v, sol = run_pde_model(D, initial_dist, timestep, T_end, L, dv, G=herd.smooth_G)"
   ]
  },
  {
   "cell_type": "code",
   "execution_count": 87,
   "metadata": {
    "hideCode": false,
    "hidePrompt": false
   },
   "outputs": [
    {
     "data": {
      "image/png": "[encoded data removed]",
      "text/plain": [
       "<Figure size 432x288 with 1 Axes>"
      ]
     },
     "metadata": {
      "needs_background": "light"
     },
     "output_type": "display_data"
    }
   ],
   "source": [
    "%matplotlib inline\n",
    "\n",
    "initial = sol[0,:]\n",
    "mu = 1\n",
    "plt.plot(v, stats.norm.pdf(v, mu, np.sqrt(D)), label = r'$\\mathcal{N}(%s, %s)$'% (mu,D))\n",
    "plt.plot(v, sol[-1,:], label='PDE')\n",
    "plt.legend()\n",
    "plt.show()"
   ]
  },
  {
   "cell_type": "markdown",
   "metadata": {
    "hideCode": false,
    "hidePrompt": false
   },
   "source": [
    "We can now compare the solution from the kinetic model with that given by the particle model. We know that they agree in the limit as $N \\to \\infty$, so setting `particles` high should give good agreement. Below are also a few examples of possible initial distributions."
   ]
  },
  {
   "cell_type": "code",
   "execution_count": 67,
   "metadata": {
    "hideCode": false,
    "hidePrompt": false
   },
   "outputs": [
    {
     "name": "stdout",
     "output_type": "stream",
     "text": [
      "Mass loss was 0.12%\n"
     ]
    }
   ],
   "source": [
    "diffusion = 1\n",
    "timestep = 0.01\n",
    "T_end = 10\n",
    "L = 5\n",
    "dv= 0.1\n",
    "particle_count = 10**4\n",
    "############ Initial Distributions ############\n",
    "#Indicator \n",
    "high_limit = 1\n",
    "low_limit = 0\n",
    "\n",
    "disc_indicator = uniform(low=low_limit, high=high_limit, size=particle_count)\n",
    "cont_indicator = (lambda x: np.array([int(i >= low_limit and i <= high_limit) for i in x]))\n",
    "\n",
    "#Gaussian \n",
    "cont_normal = lambda x: stats.norm.pdf(x, loc=0, scale=1)\n",
    "disc_normal = normal(loc=0, scale=1, size=particle_count)\n",
    "\n",
    "#Rough?\n",
    "cont_rand = lambda x: uniform(low=0, high=1, size=len(x))\n",
    "\n",
    "###############################################\n",
    "\n",
    "\n",
    "v, sol = run_pde_model(D=diffusion, dt=timestep, T_end=T_end,\n",
    "                   L=L, dv=dv, initial_dist=cont_indicator, G=herd.step_G)\n",
    "\n",
    "t, traj = run_particle_model(particles=particle_count, D=diffusion,\n",
    "                         initial_dist=disc_indicator, dt=timestep,\n",
    "                         T_end=T_end, G=herd.step_G)"
   ]
  },
  {
   "cell_type": "markdown",
   "metadata": {
    "hideCode": false,
    "hidePrompt": false
   },
   "source": [
    "We will now start using `plotting_tools.py` to produce plots. This will help keep this workbook more focussed on the model, rather than becoming a tutorial on the intricacies of matplotlib.\n",
    "\n",
    "Now we can produce an animation showing the convergence of the PDE and the particle model to the metastable state. Both models are in close agreement, so long as the number of particles is high enough to give a good density estimate."
   ]
  },
  {
   "cell_type": "code",
   "execution_count": 78,
   "metadata": {
    "hideCode": false,
    "hidePrompt": false,
    "scrolled": false
   },
   "outputs": [
    {
     "name": "stderr",
     "output_type": "stream",
     "text": [
      "C:\\Users\\s1415551\\AppData\\Local\\Continuum\\anaconda3\\lib\\site-packages\\matplotlib\\figure.py:445: UserWarning: Matplotlib is currently using Qt5Agg, which is a non-GUI backend, so cannot show the figure.\n",
      "  % get_backend())\n"
     ]
    },
    {
     "data": {
      "image/png": "[encoded data removed]",
      "text/plain": [
       "<Figure size 1440x720 with 1 Axes>"
      ]
     },
     "metadata": {
      "needs_background": "light"
     },
     "output_type": "display_data"
    }
   ],
   "source": [
    "%matplotlib qt\n",
    "\n",
    "ani = easyplt.animate_PDE_hist(t, v, traj, sol)"
   ]
  },
  {
   "cell_type": "markdown",
   "metadata": {},
   "source": [
    "Animations can be saved as .MP4 files using the cell below. Quality is not as high as when ran directly from the notebook."
   ]
  },
  {
   "cell_type": "code",
   "execution_count": 71,
   "metadata": {
    "hideCode": false,
    "hidePrompt": false
   },
   "outputs": [],
   "source": [
    "#Commented out so that it isn't ran by accident as it takes a while\n",
    "#writer = animation.FFMpegWriter(fps = 20, extra_args=['-vcodec', 'libx264'])\n",
    "#ani.save('spacehom.mp4', writer = writer)"
   ]
  },
  {
   "cell_type": "markdown",
   "metadata": {
    "hideCode": false,
    "hidePrompt": false
   },
   "source": [
    "For inline animation use the cell hidden below"
   ]
  },
  {
   "cell_type": "code",
   "execution_count": null,
   "metadata": {
    "hideCode": false,
    "hidePrompt": false,
    "hide_input": true
   },
   "outputs": [],
   "source": [
    "%matplotlib notebook\n",
    "%matplotlib notebook\n",
    "fig, ax= plt.subplots(figsize = (10,10))\n",
    "L = 5\n",
    "ax.set_ylim(sol.min(), sol.max()+0.1)\n",
    "ax.set_xlim(-L, L)\n",
    "ax.set_xlabel('Velocity')\n",
    "ax.set_ylabel('Density')\n",
    "fig.suptitle('t = {}'.format(t[0]))\n",
    "\n",
    "\n",
    "plt.ion() #Interactive mode on\n",
    "mu = np.sign(np.mean(traj[0,:]))\n",
    "sigma = np.sqrt(diffusion)\n",
    "\n",
    "#v = np.arange(mu - 5*sigma, mu + 5*sigma, 0.01)\n",
    "ax.plot(v, stats.norm.pdf(v, mu, sigma), label = r'Stationary D$^{\\mathrm{n}}$')\n",
    "\n",
    "line, = plt.plot(v, sol[0,:], label = 'PDE')\n",
    "n, bins, patches = plt.hist(traj[0,:],  bins=np.arange(traj.min(), traj.max(), 0.15), density = True, label= 'Particle Model')\n",
    "ax.legend()\n",
    "fig.show()\n",
    "fig.canvas.draw()\n",
    "\n",
    "for i in range(0, len(t)):\n",
    "    line.set_ydata(sol[i,:])\n",
    "    n, _ = np.histogram(traj[i,:],  bins = np.arange(traj.min(), traj.max(), 0.15), density = True)\n",
    "    fig.suptitle('t = {:.2f}'.format(t[i]))\n",
    "    for rect, heig in zip(patches, n):\n",
    "         rect.set_height(heig)\n",
    "    time.sleep(0.01)\n",
    "    fig.canvas.draw()\n",
    "\n",
    "\n"
   ]
  },
  {
   "cell_type": "markdown",
   "metadata": {},
   "source": [
    "## Invariant Distribution of Particle System\n",
    "\n",
    "It has been mentioned that the particle system is converging to a _metastable_ state. It can be shown that the invariant measure for this system has mean zero, not $\\pm 1$ as our simulations would suggest. This is because of the noise inherent in the system. The particles are able to 'jump' out of the potential well in which they lay. If enough particles perform this jump at the same time, they will begin to have a noticeable effect on the other particles until a switch in stability occurs. In this section it will be shown that the invariant measure has mean zero, as well as some explicit forms of the invariant distribution for specific herding functions $G$. The phenomena will then be illustrated numerically using a small number of particles. Doing so allows each particle to exert more influence on the system as a whole, making jumps more common. Changing the potential well that the particles lie in will also be investigated.\n",
    "\n",
    "### Invariant Measure has Mean Zero\n",
    "Consider the space-homogeneous particle model as given at the top of the page. \n",
    "\n",
    "$$\n",
    "\\dif v^{i,N}_t = -v^{i,N}_t \\dif t + G\\left(\\frac{1}{N}\\sum_{j=1}^N v^{j,N}_t\\right)\\dif t + \\sqrt{2\\sigma} \\dif W_t^i\n",
    "$$\n",
    "\n",
    "Let $m_t = \\frac{1}{N}\\sum_{j=1}^N V^{j,N}_t$. Summing the system across $i$ gives an equation for $m_t$:\n",
    "\n",
    "$$\n",
    "    \\dif m_t = \\lbrack -m_t + G(m_t)\\rbrack \\dif t +\\sqrt{2\\sigma}\\dif W_t\n",
    "$$\n",
    "\n",
    "Let $V(x) = \\frac{x^2}{2} + \\tilde{V}(x)$, where $-\\tilde{V}'(x) = G(x)$ so that $-V'(x) = -x + G(x)$. The aim here is to find a function $V$ such that the equation for $m_t$ resembles the Langevin equation. The existence and uniqueness of the invariant measure will then follow from standard theory for the Langevin equation. Thus\n",
    "\n",
    "\\begin{equation}\n",
    "    \\dif m_t = -V'(m_t)\\dif t + \\sqrt{2\\sigma}\\dif W_t.\\label{eq:meanSDE}\n",
    "\\end{equation}\n",
    "\n",
    "By definition, $\\tilde{V}(x) = - \\int_{-\\infty}^x G(u) \\dif u$. As $G$ is bounded, $\\tilde{V}(x)$ grows at most linearly. This means $V(x) \\to \\infty$ as$|x|\\to \\infty$, $V$ is a well-defined potential well and $\\mathrm{e}^{-V(x)}$ is integrable. Hence \\eqref{eq:meanSDE} admits a unique invariant measure, $\\rho(x) = Z^{-1}\\mathrm{e}^{-V(x)}$ with $Z$ a normalising constant.\n",
    "\n",
    "What can we say about this invariant measure? Recall the only restrictions placed on $G$ were:\n",
    "- $G$ must be odd, that is $G(u)=-G(-u)$\n",
    "- $$\n",
    "    \\begin{cases}\n",
    "         G(u)>u & \\text{if } 0<u<1\\\\ \n",
    "         G(u)<u &  \\text{if } u>1\n",
    "    \\end{cases}\n",
    "  $$\n",
    "  \n",
    "If $G$ is odd, $\\tilde{V}(x)$ is an even function, so $V(x)$ is also an even function. Then the mean of the invariant distribution $\\rho$ is\n",
    "#TODO this notation is wrong. \n",
    "$$\\mathbb{E}[m_t] \\to \\int_{\\mathbb{R}} m \\text{e}^{-V(m)}\\dif m = 0, $$\n",
    "as this is the integral of an odd function.\n",
    "***\n",
    "This shows that the simulation is not telling the whole story of the particle system - it should be converging to a distribution with mean zero!\n"
   ]
  },
  {
   "cell_type": "code",
   "execution_count": null,
   "metadata": {},
   "outputs": [],
   "source": [
    "#Long run of low particle number, time average hist\n",
    "\n",
    "%matplotlib qt\n",
    "diffusion = 1\n",
    "timestep = 0.01\n",
    "T_end = 10**5\n",
    "L = 5\n",
    "dv= 0.1\n",
    "particle_count = 4\n",
    "disc_indicator = uniform(low=-0.5, high=0.5, size=particle_count)\n",
    "\n",
    "t, traj = run_particle_model(particles=particle_count, D=diffusion,\n",
    "                         initial_dist=disc_indicator, dt=timestep,\n",
    "                         T_end=T_end, G=herd.step_G)"
   ]
  },
  {
   "cell_type": "code",
   "execution_count": 73,
   "metadata": {},
   "outputs": [],
   "source": [
    "fig, ax = plt.subplots(1,1)\n",
    "#plt.ion() #Interactive mode on\n",
    "\n",
    "\n",
    "n, bins, patches = ax.hist(traj.flatten(),\n",
    "                           bins=np.arange(traj.min(), traj.max(), 0.15),\n",
    "                           density=True, label='Particle Model')\n",
    "\n",
    "ax.set_ylim(0,1.05)\n",
    "ax.set_xlim(traj.min(), traj.max())\n",
    "\n",
    "mu = np.sign(np.mean(traj[0,:]))\n",
    "sigma = np.sqrt(diffusion)\n",
    "\n",
    "_v = np.arange(mu - 5*sigma, mu + 5*sigma, 0.01)\n",
    "ax.plot(_v, stats.norm.pdf(_v, mu, sigma), label=r'Stationary D$^{\\mathrm{n}}$')\n",
    "\n",
    "fig.suptitle('t = {}'.format(t[0]))\n",
    "ax.legend()\n",
    "ax.set_xlabel('Velocity')\n",
    "ax.set_ylabel('Density')\n",
    "\n",
    "fig.show()"
   ]
  },
  {
   "cell_type": "markdown",
   "metadata": {
    "hideCode": false,
    "hidePrompt": false
   },
   "source": [
    "## Change of Variables \n",
    "Here we look at the change of variables (2.3), instead of simulating the full system. Start with simulating the Fokker-Planck eq. for the OU process. Then estimate the integral and change variables. "
   ]
  },
  {
   "cell_type": "code",
   "execution_count": 12,
   "metadata": {
    "hideCode": false,
    "hidePrompt": false
   },
   "outputs": [
    {
     "name": "stdout",
     "output_type": "stream",
     "text": [
      "Mass loss was 0.00%\n"
     ]
    }
   ],
   "source": [
    "diffusion = 1\n",
    "timestep = 0.01\n",
    "T_end = 10\n",
    "L = 8\n",
    "dv= 0.1\n",
    "v, ou_sol = run_pde_model(D=diffusion, dt=timestep, T_end=T_end,\n",
    "                   L=L, dv=dv, initial_dist=cont_indicator, G=herd.no_G)"
   ]
  },
  {
   "cell_type": "markdown",
   "metadata": {
    "hideCode": false,
    "hidePrompt": false
   },
   "source": [
    "Aim: Calculate \n",
    "\n",
    "$$ \\int_0^t G(M_1(s))\\dif s   $$\n",
    "\n",
    "Do this by solving the ODE:\n",
    "$$ \\dot{M}_1(s) = G(M_1(s))-M_1(s)$$\n",
    "\n",
    "- Use ODE solver\n",
    "- Solve by hand?\n"
   ]
  },
  {
   "cell_type": "code",
   "execution_count": null,
   "metadata": {
    "hideCode": false,
    "hidePrompt": false
   },
   "outputs": [],
   "source": [
    "M_dot = lambda t, G, M: G(M) - M\n",
    "\n",
    "T_end=100\n",
    "t = np.arange(0,T_end+dt,dt)\n",
    "M = solve_ivp(fun = lambda t,M : M_dot(t,step_G,M), t_span = [0,T_end], y0=[-0.5], t_eval=t)\n",
    "M = M.y.flatten()\n",
    "print(M[-1])\n",
    "integ=np.zeros(len(t))\n",
    "for i in range(1,len(t)):\n",
    "    integ[i] = simps(M[0:i], dx = dt)\n",
    "\n",
    "plt.plot(t,integ)\n",
    "plt.show()\n"
   ]
  },
  {
   "cell_type": "code",
   "execution_count": null,
   "metadata": {
    "hideCode": false,
    "hidePrompt": false
   },
   "outputs": [],
   "source": [
    "%matplotlib inline\n",
    "plt.plot(v, ou_sol[-1,:], label = 'PDE')\n",
    "#print(np.mean(sol[0,:]))\n",
    "mu = 0\n",
    "plt.plot(v, stats.norm.pdf(v, mu, sigma), label = r'Stationary D$^{\\mathrm{n}}$')\n",
    "plt.legend()\n",
    "plt.show()"
   ]
  }
 ],
 "metadata": {
  "hide_code_all_hidden": false,
  "kernelspec": {
   "display_name": "Python 3",
   "language": "python",
   "name": "python3"
  },
  "language_info": {
   "codemirror_mode": {
    "name": "ipython",
    "version": 3
   },
   "file_extension": ".py",
   "mimetype": "text/x-python",
   "name": "python",
   "nbconvert_exporter": "python",
   "pygments_lexer": "ipython3",
   "version": "3.7.3"
  },
  "toc": {
   "base_numbering": 1,
   "nav_menu": {},
   "number_sections": true,
   "sideBar": true,
   "skip_h1_title": true,
   "title_cell": "Table of Contents",
   "title_sidebar": "Contents",
   "toc_cell": true,
   "toc_position": {
    "height": "99.9792px",
    "left": "92px",
    "top": "170.719px",
    "width": "164.969px"
   },
   "toc_section_display": true,
   "toc_window_display": true
  }
 },
 "nbformat": 4,
 "nbformat_minor": 2
}
